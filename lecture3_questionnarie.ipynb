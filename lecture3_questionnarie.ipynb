{
 "cells": [
  {
   "cell_type": "markdown",
   "id": "d367a81b",
   "metadata": {},
   "source": [
    "# Lecture 3: Questionnaire"
   ]
  },
  {
   "cell_type": "code",
   "execution_count": 2,
   "id": "5b66f5bf",
   "metadata": {},
   "outputs": [],
   "source": [
    "import fastbook\n",
    "fastbook.setup_book()\n",
    "\n",
    "\n",
    "#hide\n",
    "# from fastai.vision.all import *\n",
    "from fastbook import *"
   ]
  },
  {
   "cell_type": "markdown",
   "id": "caeb37f4",
   "metadata": {},
   "source": [
    "1) What letters are often used to signify the independent and dependent variables?"
   ]
  },
  {
   "cell_type": "markdown",
   "id": "1bd01f70",
   "metadata": {},
   "source": [
    "**Answer:**\n",
    "\n",
    "__The independent variable is often referred to as _x_, and the dependent variable is often referred to as _y_.__"
   ]
  },
  {
   "cell_type": "markdown",
   "id": "8b60cf51",
   "metadata": {},
   "source": [
    "2) What's the difference between the crop, pad, and squish resize approaches? When might you choose one over the others?"
   ]
  },
  {
   "cell_type": "markdown",
   "id": "1eefb300",
   "metadata": {},
   "source": [
    "__Answer:__\n",
    "\n",
    "* *__crop__* fits a square shape of the size requested, using the full width or height of the image.\n",
    "* *__pad__* adds zeros to the image (which makes the top and and bottom of the image black)\n",
    "* *__squish__* squishes the image from the original\n",
    "\n",
    "__Usually you'll want to (at random) select parts of the image and then crop to just that part. You might choose one over the others when you want to neural network to \"know\" it's looking at the same image just transformed.__"
   ]
  },
  {
   "cell_type": "markdown",
   "id": "ed63fc06",
   "metadata": {},
   "source": [
    "3) What is data augmentation? Why is it needed?"
   ]
  },
  {
   "cell_type": "markdown",
   "id": "59fa51d6",
   "metadata": {},
   "source": [
    "__Answer:__\n",
    "\n",
    "**_Data Augmentation_** refers to creating random variations of our input data, such that they appear different but do not change the meaning of the data. This is needed so that training the neural network with examples of images in which the objects are in slightly different places and are slightly different sizes helps it to understand the basic concept of what an object is, and how it can be represented in an image."
   ]
  },
  {
   "cell_type": "markdown",
   "id": "8aae082d",
   "metadata": {},
   "source": [
    "4) What is the difference between item_tfms and batch_tfms?"
   ]
  },
  {
   "cell_type": "markdown",
   "id": "b1418c82",
   "metadata": {},
   "source": [
    "__Answer:__\n",
    "\n",
    "* __`items_tfms`__ __is a fastai transform function that will resize images/categories/etc.. to the same size \n",
    "* __`batch_tfms`__ __is a fastai transform function that will apply transforms on a batch of data"
   ]
  },
  {
   "cell_type": "markdown",
   "id": "9fd4b844",
   "metadata": {},
   "source": [
    "5) What is a confusion matrix?"
   ]
  },
  {
   "cell_type": "markdown",
   "id": "1e449df0",
   "metadata": {},
   "source": [
    "__Answer:__\n",
    "\n",
    "__A confusion matrix is, \"an N x N matrix used for evaluating the performance of a classification model, where N is the number of target classes. The matrix compares the actual target values with those predicted by the machine learning model.\" [1](https://www.google.com/url?sa=t&rct=j&q=&esrc=s&source=web&cd=&cad=rja&uact=8&ved=2ahUKEwj06uSor5jxAhV-GFkFHfwABhcQFjAHegQIDRAD&url=https%3A%2F%2Fwww.analyticsvidhya.com%2Fblog%2F2020%2F04%2Fconfusion-matrix-machine-learning%2F&usg=AOvVaw309CLoACLuhazzJi-8so35).__"
   ]
  },
  {
   "cell_type": "markdown",
   "id": "da9da3ba",
   "metadata": {},
   "source": [
    "6) What does export save?"
   ]
  },
  {
   "cell_type": "markdown",
   "id": "d6fa2d21",
   "metadata": {},
   "source": [
    "__Answer:__\n",
    "\n",
    "__`export`__ __saves your trained model as a `.pkl` file so that you can load it back up again when necessary__"
   ]
  },
  {
   "cell_type": "markdown",
   "id": "2d896deb",
   "metadata": {},
   "source": [
    "7) What is it called when we use a model for getting predictions, instead of training?"
   ]
  },
  {
   "cell_type": "markdown",
   "id": "7aa70a1d",
   "metadata": {},
   "source": [
    "__Answer:__\n",
    "\n",
    "__Inference__"
   ]
  },
  {
   "cell_type": "markdown",
   "id": "3bb885cf",
   "metadata": {},
   "source": [
    "8) What are IPython widgets?"
   ]
  },
  {
   "cell_type": "markdown",
   "id": "5cbc3c49",
   "metadata": {},
   "source": [
    "__Answer:__\n",
    "\n",
    "__IPython widgets are GUI components that bring together JavaScript and Python functionality in a web browser, and can be crated and used within a Jupyter notebook.__"
   ]
  },
  {
   "cell_type": "markdown",
   "id": "39236d46",
   "metadata": {},
   "source": [
    "9) When might you want to use CPU for deployment? When might GPU be better?"
   ]
  },
  {
   "cell_type": "markdown",
   "id": "4713fbe5",
   "metadata": {},
   "source": [
    "__Answer:__\n",
    "\n",
    "__You want to use CPU for deployment when inference is of highest importance with low latency for the end user using the machine learning/deep learning model. A GPU might be better when you have complex deployment approaches and GPU for inference becomes necessary.__"
   ]
  },
  {
   "cell_type": "markdown",
   "id": "d9e4070e",
   "metadata": {},
   "source": [
    "10) What are the downsides of deploying your app to a server, instead of to a client (or edge) device such as a phone or PC?"
   ]
  },
  {
   "cell_type": "markdown",
   "id": "a6a6b727",
   "metadata": {},
   "source": [
    "__Answer:__\n",
    "\n",
    "__The downsides of deploying your app to a server is that the application will require a network connection, and there will be some latency each time the model is called. Also, if your application uses sensitive data, your users may be concerned about an approach that sends that data to a remote server, so sometimes privacy considerations will mean that you need to run the model on the edge device. Lastly, managing the complexity and scaling the server can create additional overhead too.__"
   ]
  },
  {
   "cell_type": "markdown",
   "id": "9a4dda27",
   "metadata": {},
   "source": [
    "11) What are three examples of problems that could occur when rolling out a bear warning system in practice?"
   ]
  },
  {
   "cell_type": "markdown",
   "id": "59dcac6e",
   "metadata": {},
   "source": [
    "__Answer:__\n",
    "\n",
    "* __Working with video data instead of images__\n",
    "* __Ensuring results are returned fast enough to be useful in practice__\n",
    "* __Recognizing bears in positions that are rarely seen in photos that people post online (for example from behind, partially covered by bushes, or a long way away from the camera)__"
   ]
  },
  {
   "cell_type": "markdown",
   "id": "bd5164cf",
   "metadata": {},
   "source": [
    "12) What is \"out-of-domain data\"?"
   ]
  },
  {
   "cell_type": "markdown",
   "id": "31272c71",
   "metadata": {},
   "source": [
    "__Answer:__\n",
    "\n",
    "__Out of domain is when data that the model sees in production is very different from what it saw during training.__"
   ]
  },
  {
   "cell_type": "markdown",
   "id": "19f8d3fb",
   "metadata": {},
   "source": [
    "13) What is \"domain shift\"?"
   ]
  },
  {
   "cell_type": "markdown",
   "id": "22c9c251",
   "metadata": {},
   "source": [
    "__Answer:__\n",
    "\n",
    "__Domain shift is when the type of data that our model sees changes over time. For instance, an insurance company may use a deep learning model as part of its pricing and risk algorithm, but over time the types of customers the company attracts and the types of risks it represents may change so much that the original training data is no longer relevant__"
   ]
  },
  {
   "cell_type": "markdown",
   "id": "820417a0",
   "metadata": {},
   "source": [
    "14) What are the three steps in the deployment process?"
   ]
  },
  {
   "cell_type": "markdown",
   "id": "24396a68",
   "metadata": {},
   "source": [
    "__Answer:__\n",
    "\n",
    "* __Manual Process__ -> __Run model in parallel, Humans check all predictions__\n",
    "* __Limited scope deployment__ -> __Careful human supervision, Time or geography limited__\n",
    "* __Gradual expansion__ -> __Good reporting systems needed, Consider what could go wrong__"
   ]
  },
  {
   "cell_type": "markdown",
   "id": "0770b78a",
   "metadata": {},
   "source": [
    "15) How is a grayscale image represented on a computer? How about a color image?"
   ]
  },
  {
   "cell_type": "markdown",
   "id": "bf417467",
   "metadata": {},
   "source": [
    "__Answer:__\n",
    "\n",
    "__Grayscale image is represented on a computer by turning the image into a tensor/numpy array and setting the color to grey with `pandas` library. A color image is the same in that you would use the `pandas` library__"
   ]
  },
  {
   "cell_type": "markdown",
   "id": "c5c2efea",
   "metadata": {},
   "source": [
    "16) How are the files and folders in the MNIST_SAMPLE dataset structured? Why?"
   ]
  },
  {
   "cell_type": "markdown",
   "id": "917c3027",
   "metadata": {},
   "source": [
    "__Answer:__\n",
    "\n",
    "__The files and folders in the `MNIST_SAMPLE` dataset are structured by having separate folders for the training set and the validation (and/or test) set. They are structured this way because it's a common layout for machine learning datasets.__"
   ]
  },
  {
   "cell_type": "markdown",
   "id": "e4eb5cb6",
   "metadata": {},
   "source": [
    "17) \n",
    "Explain how the \"pixel similarity\" approach to classifying digits works.\n"
   ]
  },
  {
   "cell_type": "markdown",
   "id": "832b9e5c",
   "metadata": {},
   "source": [
    "__Answer:__\n",
    "\n",
    "__The Pixel Similarity approach is the idea to find the average pixel value for every pixel of the 3s, then do the same for the 7s for the `MNIST SAMPLE`. This will give us two group averages, defining what we might call the \"ideal\" 3 and 7. Then, to classify an image as one digit or the other, we see which of these two ideal digits the image is most similar to.__"
   ]
  },
  {
   "cell_type": "markdown",
   "id": "806c1b02",
   "metadata": {},
   "source": [
    "18) What is a list comprehension? Create one now that selects odd numbers from a list and doubles them."
   ]
  },
  {
   "cell_type": "markdown",
   "id": "d0c3ca40",
   "metadata": {},
   "source": [
    "__Answer:__\n",
    "\n",
    "__A `list comprehension` looks like this: `new_list = [f(o) for o in a_list if o>0]`. This will return every element of `a_list` that is greater than 0, after passing it to the function `f`. There are three parts here: the collection you are iterating over (`a_list`), an optional filter (if o<0), and something to do to each element `(f(o))`. It's not only shorter to write, but also way faster than the alternative ways of creating the same list with a loop.__\n",
    "\n",
    "`odd_nums = [o*2 for o in a_list if o%2 != 0]`"
   ]
  },
  {
   "cell_type": "markdown",
   "id": "36bbea42",
   "metadata": {},
   "source": [
    "19) What is a \"rank-3 tensor\"?"
   ]
  },
  {
   "cell_type": "markdown",
   "id": "50e17023",
   "metadata": {},
   "source": [
    "__Answer:__\n",
    "\n",
    "__`rank-3 tensor` is a 3 dimensional tensor__"
   ]
  },
  {
   "cell_type": "markdown",
   "id": "85bc940d",
   "metadata": {},
   "source": [
    "20) What is the difference between tensor rank and shape? How do you get the rank from the shape?"
   ]
  },
  {
   "cell_type": "markdown",
   "id": "85c89913",
   "metadata": {},
   "source": [
    "__Answer:__\n",
    "\n",
    "__tensor rank is the dimensions inside of a pytorch tensor. Shape is the length of each of the dimensions. You get the rank from the shape by doing `len(tensor.shape)`__"
   ]
  },
  {
   "cell_type": "markdown",
   "id": "ba62de1f",
   "metadata": {},
   "source": [
    "21) \n",
    "What are RMSE and L1 norm?"
   ]
  },
  {
   "cell_type": "markdown",
   "id": "ec0ca21a",
   "metadata": {},
   "source": [
    "__Answer:__\n",
    "\n",
    "* __RMSE takes the mean of the *square* of differences (which makes everything positive) and then take the *square root* (which undoes the squaring).__\n",
    "* __L1 norm takes the mean of the *absolute value* of differences (absolute value is the function that replaces negative values with positive values).__"
   ]
  },
  {
   "cell_type": "markdown",
   "id": "7b8cea2b",
   "metadata": {},
   "source": [
    "22) How can you apply a calculation on thousands of numbers at once, many thousands of times faster than a Python loop?"
   ]
  },
  {
   "cell_type": "markdown",
   "id": "8ab5f481",
   "metadata": {},
   "source": [
    "__Answer:__\n",
    "\n",
    "__Broadcasting__"
   ]
  },
  {
   "cell_type": "markdown",
   "id": "1f651e0e",
   "metadata": {},
   "source": [
    "23) Create a 3×3 tensor or array containing the numbers from 1 to 9. Double it. Select the bottom-right four numbers."
   ]
  },
  {
   "cell_type": "code",
   "execution_count": 10,
   "id": "3299e963",
   "metadata": {},
   "outputs": [
    {
     "data": {
      "text/plain": [
       "(tensor([[ 2,  4,  6],\n",
       "         [ 8, 10, 12],\n",
       "         [14, 16, 18]]),\n",
       " tensor([[10, 12],\n",
       "         [16, 18]]))"
      ]
     },
     "execution_count": 10,
     "metadata": {},
     "output_type": "execute_result"
    }
   ],
   "source": [
    "tns = tensor([[1, 2, 3], [4,5,6], [7,8,9]])\n",
    "tns *= 2\n",
    "tns, tns[1:, 1:]"
   ]
  },
  {
   "cell_type": "markdown",
   "id": "79442fb0",
   "metadata": {},
   "source": [
    "24) What is broadcasting?"
   ]
  },
  {
   "cell_type": "markdown",
   "id": "8409d91f",
   "metadata": {},
   "source": [
    "__Answer:__\n",
    "\n",
    "__*Broadcasting* will automatically expand the tensor with the smaller rank to have the same size as the one with the larger rank. Broadcasting is an important capability that makes tensor code much easier to write.__"
   ]
  },
  {
   "cell_type": "markdown",
   "id": "1902e499",
   "metadata": {},
   "source": [
    "25) Are metrics generally calculated using the training set, or the validation set? Why?"
   ]
  },
  {
   "cell_type": "markdown",
   "id": "436c6bf6",
   "metadata": {},
   "source": [
    "__Answer:__\n",
    "\n",
    "__Metrics are generally calculated using the validation set. This is so that we don't inadvertently overfit, that is train a model to work well only on our training data.__"
   ]
  },
  {
   "cell_type": "markdown",
   "id": "f0197228",
   "metadata": {},
   "source": [
    "26) What is SGD?"
   ]
  },
  {
   "cell_type": "markdown",
   "id": "fd637754",
   "metadata": {},
   "source": [
    "__Answer:__\n",
    "\n",
    "__SGD (Stochastic Gradient Descent) is you update the gradients of the weights via the learning rate (multiplied) and stepping__"
   ]
  },
  {
   "cell_type": "markdown",
   "id": "859626d7",
   "metadata": {},
   "source": [
    "27) Why does SGD use mini-batches?"
   ]
  },
  {
   "cell_type": "markdown",
   "id": "5d00202f",
   "metadata": {},
   "source": [
    "__Answer:__\n",
    "\n",
    "__SGD uses mini-batches to back propagate all of the gradients and their changes at one time rather than each individual time.__"
   ]
  },
  {
   "cell_type": "markdown",
   "id": "8c32c302",
   "metadata": {},
   "source": [
    "28) What are the seven steps in SGD for machine learning?\n"
   ]
  },
  {
   "cell_type": "markdown",
   "id": "0236b91b",
   "metadata": {},
   "source": [
    "__Answer:__\n",
    "\n",
    "__1) Initialize the parameters__\n",
    "\n",
    "__2) Calculate the predictions__\n",
    "\n",
    "__3) Calculate the loss__\n",
    "\n",
    "__4) Calculate the gradients__\n",
    "\n",
    "__5) Step the weights__\n",
    "\n",
    "__6) Repeat the process__\n",
    "\n",
    "__7) Stop__"
   ]
  },
  {
   "cell_type": "markdown",
   "id": "f77243b9",
   "metadata": {},
   "source": [
    "29) How do we initialize the weights in a model?"
   ]
  },
  {
   "cell_type": "markdown",
   "id": "388339ed",
   "metadata": {},
   "source": [
    "__Answer:__\n",
    "\n",
    "__You initialize the parameters to random values and tell PyTorch that we want to track their gradients using `requires_grad_`.__"
   ]
  },
  {
   "cell_type": "markdown",
   "id": "d8417700",
   "metadata": {},
   "source": [
    "30) What is \"loss\"?"
   ]
  },
  {
   "cell_type": "markdown",
   "id": "18731a52",
   "metadata": {},
   "source": [
    "__Answer:__\n",
    "\n",
    "__Loss is the *loss function* which will return a value based on a prediction and a target, where lower values of the function correspond to \"better\" predictions.__"
   ]
  },
  {
   "cell_type": "markdown",
   "id": "930e8edf",
   "metadata": {},
   "source": [
    "31) Why can't we always use a high learning rate?"
   ]
  },
  {
   "cell_type": "markdown",
   "id": "ccb39d95",
   "metadata": {},
   "source": [
    "__Answer:__\n",
    "\n",
    "__We can't always use a high learning rate because it might \"bounce\" around, rather than diverging or the result in the loss getting worse.__"
   ]
  },
  {
   "cell_type": "markdown",
   "id": "67ae56f0",
   "metadata": {},
   "source": [
    "32) What is a \"gradient\"?"
   ]
  },
  {
   "cell_type": "markdown",
   "id": "039cfdfe",
   "metadata": {},
   "source": [
    "__Answer:__\n",
    "\n",
    "__Gradient is defined as *rise/run*; that is, the change in teh value of the function, divided by the change in the value of the parameter.__"
   ]
  }
 ],
 "metadata": {
  "kernelspec": {
   "display_name": "fastai",
   "language": "python",
   "name": "fastai"
  },
  "language_info": {
   "codemirror_mode": {
    "name": "ipython",
    "version": 3
   },
   "file_extension": ".py",
   "mimetype": "text/x-python",
   "name": "python",
   "nbconvert_exporter": "python",
   "pygments_lexer": "ipython3",
   "version": "3.7.10"
  }
 },
 "nbformat": 4,
 "nbformat_minor": 5
}
