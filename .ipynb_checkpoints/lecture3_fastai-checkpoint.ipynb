{
 "cells": [
  {
   "cell_type": "markdown",
   "id": "65167abb",
   "metadata": {},
   "source": [
    "# Under the Hood: Training a Digit Classifier"
   ]
  },
  {
   "cell_type": "code",
   "execution_count": 1,
   "id": "d37c7b5c",
   "metadata": {},
   "outputs": [
    {
     "name": "stderr",
     "output_type": "stream",
     "text": [
      "/home/ubuntu/anaconda3/envs/fastai/lib/python3.7/site-packages/fastbook/__init__.py:18: UserWarning: Missing `graphviz` - please run `conda install fastbook`\n",
      "  except ModuleNotFoundError: warn(\"Missing `graphviz` - please run `conda install fastbook`\")\n"
     ]
    }
   ],
   "source": [
    "import fastbook\n",
    "fastbook.setup_book()\n",
    "\n",
    "\n",
    "#hide\n",
    "from fastai.vision.all import *\n",
    "from fastbook import *"
   ]
  },
  {
   "cell_type": "markdown",
   "id": "13bc170b",
   "metadata": {},
   "source": [
    "## Loading the Data"
   ]
  },
  {
   "cell_type": "markdown",
   "id": "97643105",
   "metadata": {},
   "source": [
    "`untar_data` downloads and uncompresses data from fastai library (unless you already have)"
   ]
  },
  {
   "cell_type": "code",
   "execution_count": 2,
   "id": "20f6bb4e",
   "metadata": {},
   "outputs": [],
   "source": [
    "path = untar_data(URLs.MNIST_SAMPLE)"
   ]
  },
  {
   "cell_type": "code",
   "execution_count": 3,
   "id": "1fa467ab",
   "metadata": {},
   "outputs": [],
   "source": [
    "Path.BASE_PATH = path"
   ]
  },
  {
   "cell_type": "code",
   "execution_count": 4,
   "id": "eef813db",
   "metadata": {},
   "outputs": [
    {
     "data": {
      "text/plain": [
       "(#3) [Path('train'),Path('valid'),Path('labels.csv')]"
      ]
     },
     "execution_count": 4,
     "metadata": {},
     "output_type": "execute_result"
    }
   ],
   "source": [
    "path.ls()"
   ]
  },
  {
   "cell_type": "code",
   "execution_count": 5,
   "id": "cfc5dfc3",
   "metadata": {},
   "outputs": [
    {
     "data": {
      "text/plain": [
       "(#2) [Path('train/7'),Path('train/3')]"
      ]
     },
     "execution_count": 5,
     "metadata": {},
     "output_type": "execute_result"
    }
   ],
   "source": [
    "(path/'train').ls()"
   ]
  },
  {
   "cell_type": "code",
   "execution_count": 6,
   "id": "4b5dbe57",
   "metadata": {},
   "outputs": [
    {
     "data": {
      "text/plain": [
       "(#6131) [Path('train/3/10.png'),Path('train/3/10000.png'),Path('train/3/10011.png'),Path('train/3/10031.png'),Path('train/3/10034.png'),Path('train/3/10042.png'),Path('train/3/10052.png'),Path('train/3/1007.png'),Path('train/3/10074.png'),Path('train/3/10091.png')...]"
      ]
     },
     "execution_count": 6,
     "metadata": {},
     "output_type": "execute_result"
    }
   ],
   "source": [
    "threes = (path/'train'/'3').ls().sorted()\n",
    "sevens = (path/'train'/'7').ls().sorted()\n",
    "threes"
   ]
  },
  {
   "cell_type": "code",
   "execution_count": 7,
   "id": "3acccd67",
   "metadata": {},
   "outputs": [
    {
     "data": {
      "image/png": "[encoded data removed]",
      "text/plain": [
       "<PIL.PngImagePlugin.PngImageFile image mode=L size=28x28 at 0x7F19CCC26550>"
      ]
     },
     "execution_count": 7,
     "metadata": {},
     "output_type": "execute_result"
    }
   ],
   "source": [
    "im3_path = threes[1]\n",
    "im3 = Image.open(im3_path)\n",
    "im3"
   ]
  },
  {
   "cell_type": "code",
   "execution_count": 8,
   "id": "27a4ecb4",
   "metadata": {},
   "outputs": [
    {
     "data": {
      "text/plain": [
       "array([[  0,   0,   0,   0,   0,   0],\n",
       "       [  0,   0,   0,   0,   0,  29],\n",
       "       [  0,   0,   0,  48, 166, 224],\n",
       "       [  0,  93, 244, 249, 253, 187],\n",
       "       [  0, 107, 253, 253, 230,  48],\n",
       "       [  0,   3,  20,  20,  15,   0]], dtype=uint8)"
      ]
     },
     "execution_count": 8,
     "metadata": {},
     "output_type": "execute_result"
    }
   ],
   "source": [
    "array(im3)[4:10, 4:10]"
   ]
  },
  {
   "cell_type": "code",
   "execution_count": 9,
   "id": "4472fecd",
   "metadata": {},
   "outputs": [
    {
     "data": {
      "text/plain": [
       "tensor([[  0,   0,   0,   0,   0,   0],\n",
       "        [  0,   0,   0,   0,   0,  29],\n",
       "        [  0,   0,   0,  48, 166, 224],\n",
       "        [  0,  93, 244, 249, 253, 187],\n",
       "        [  0, 107, 253, 253, 230,  48],\n",
       "        [  0,   3,  20,  20,  15,   0]], dtype=torch.uint8)"
      ]
     },
     "execution_count": 9,
     "metadata": {},
     "output_type": "execute_result"
    }
   ],
   "source": [
    "tensor(im3)[4:10, 4:10]"
   ]
  },
  {
   "cell_type": "markdown",
   "id": "d5813255",
   "metadata": {},
   "source": [
    "Note: The reason you're using `pandas DataFrame` is because it has the function `background_gradient`."
   ]
  },
  {
   "cell_type": "code",
   "execution_count": 10,
   "id": "20bbc089",
   "metadata": {},
   "outputs": [
    {
     "data": {
      "text/html": [
       "<style  type=\"text/css\" >\n",
       "#T_cf304_row0_col0,#T_cf304_row0_col1,#T_cf304_row0_col2,#T_cf304_row0_col3,#T_cf304_row0_col4,#T_cf304_row0_col5,#T_cf304_row0_col6,#T_cf304_row0_col7,#T_cf304_row0_col8,#T_cf304_row0_col9,#T_cf304_row0_col10,#T_cf304_row0_col11,#T_cf304_row0_col12,#T_cf304_row0_col13,#T_cf304_row0_col14,#T_cf304_row0_col15,#T_cf304_row0_col16,#T_cf304_row0_col17,#T_cf304_row1_col0,#T_cf304_row1_col1,#T_cf304_row1_col2,#T_cf304_row1_col3,#T_cf304_row1_col4,#T_cf304_row1_col15,#T_cf304_row1_col16,#T_cf304_row1_col17,#T_cf304_row2_col0,#T_cf304_row2_col1,#T_cf304_row2_col2,#T_cf304_row2_col15,#T_cf304_row2_col16,#T_cf304_row2_col17,#T_cf304_row3_col0,#T_cf304_row3_col15,#T_cf304_row3_col16,#T_cf304_row3_col17,#T_cf304_row4_col0,#T_cf304_row4_col6,#T_cf304_row4_col7,#T_cf304_row4_col8,#T_cf304_row4_col9,#T_cf304_row4_col10,#T_cf304_row4_col15,#T_cf304_row4_col16,#T_cf304_row4_col17,#T_cf304_row5_col0,#T_cf304_row5_col5,#T_cf304_row5_col6,#T_cf304_row5_col7,#T_cf304_row5_col8,#T_cf304_row5_col9,#T_cf304_row5_col15,#T_cf304_row5_col16,#T_cf304_row5_col17,#T_cf304_row6_col0,#T_cf304_row6_col1,#T_cf304_row6_col2,#T_cf304_row6_col3,#T_cf304_row6_col4,#T_cf304_row6_col5,#T_cf304_row6_col6,#T_cf304_row6_col7,#T_cf304_row6_col8,#T_cf304_row6_col9,#T_cf304_row6_col14,#T_cf304_row6_col15,#T_cf304_row6_col16,#T_cf304_row6_col17,#T_cf304_row7_col0,#T_cf304_row7_col1,#T_cf304_row7_col2,#T_cf304_row7_col3,#T_cf304_row7_col4,#T_cf304_row7_col5,#T_cf304_row7_col6,#T_cf304_row7_col13,#T_cf304_row7_col14,#T_cf304_row7_col15,#T_cf304_row7_col16,#T_cf304_row7_col17,#T_cf304_row8_col0,#T_cf304_row8_col1,#T_cf304_row8_col2,#T_cf304_row8_col3,#T_cf304_row8_col4,#T_cf304_row8_col13,#T_cf304_row8_col14,#T_cf304_row8_col15,#T_cf304_row8_col16,#T_cf304_row8_col17,#T_cf304_row9_col0,#T_cf304_row9_col1,#T_cf304_row9_col2,#T_cf304_row9_col3,#T_cf304_row9_col4,#T_cf304_row9_col16,#T_cf304_row9_col17,#T_cf304_row10_col0,#T_cf304_row10_col1,#T_cf304_row10_col2,#T_cf304_row10_col3,#T_cf304_row10_col4,#T_cf304_row10_col5,#T_cf304_row10_col6,#T_cf304_row10_col17{\n",
       "            font-size:  6pt;\n",
       "            background-color:  #ffffff;\n",
       "            color:  #000000;\n",
       "        }#T_cf304_row1_col5{\n",
       "            font-size:  6pt;\n",
       "            background-color:  #efefef;\n",
       "            color:  #000000;\n",
       "        }#T_cf304_row1_col6,#T_cf304_row1_col13{\n",
       "            font-size:  6pt;\n",
       "            background-color:  #7c7c7c;\n",
       "            color:  #000000;\n",
       "        }#T_cf304_row1_col7{\n",
       "            font-size:  6pt;\n",
       "            background-color:  #4a4a4a;\n",
       "            color:  #f1f1f1;\n",
       "        }#T_cf304_row1_col8,#T_cf304_row1_col9,#T_cf304_row1_col10,#T_cf304_row2_col5,#T_cf304_row2_col6,#T_cf304_row2_col7,#T_cf304_row2_col11,#T_cf304_row2_col12,#T_cf304_row2_col13,#T_cf304_row3_col4,#T_cf304_row3_col12,#T_cf304_row3_col13,#T_cf304_row4_col1,#T_cf304_row4_col2,#T_cf304_row4_col3,#T_cf304_row4_col12,#T_cf304_row4_col13,#T_cf304_row5_col12,#T_cf304_row6_col11,#T_cf304_row9_col11,#T_cf304_row10_col11,#T_cf304_row10_col12,#T_cf304_row10_col13,#T_cf304_row10_col14,#T_cf304_row10_col15,#T_cf304_row10_col16{\n",
       "            font-size:  6pt;\n",
       "            background-color:  #000000;\n",
       "            color:  #f1f1f1;\n",
       "        }#T_cf304_row1_col11{\n",
       "            font-size:  6pt;\n",
       "            background-color:  #606060;\n",
       "            color:  #f1f1f1;\n",
       "        }#T_cf304_row1_col12{\n",
       "            font-size:  6pt;\n",
       "            background-color:  #4d4d4d;\n",
       "            color:  #f1f1f1;\n",
       "        }#T_cf304_row1_col14{\n",
       "            font-size:  6pt;\n",
       "            background-color:  #bbbbbb;\n",
       "            color:  #000000;\n",
       "        }#T_cf304_row2_col3{\n",
       "            font-size:  6pt;\n",
       "            background-color:  #e4e4e4;\n",
       "            color:  #000000;\n",
       "        }#T_cf304_row2_col4,#T_cf304_row8_col6{\n",
       "            font-size:  6pt;\n",
       "            background-color:  #6b6b6b;\n",
       "            color:  #000000;\n",
       "        }#T_cf304_row2_col8,#T_cf304_row2_col14,#T_cf304_row3_col14{\n",
       "            font-size:  6pt;\n",
       "            background-color:  #171717;\n",
       "            color:  #f1f1f1;\n",
       "        }#T_cf304_row2_col9,#T_cf304_row3_col11{\n",
       "            font-size:  6pt;\n",
       "            background-color:  #4b4b4b;\n",
       "            color:  #f1f1f1;\n",
       "        }#T_cf304_row2_col10,#T_cf304_row7_col10,#T_cf304_row8_col8,#T_cf304_row8_col10,#T_cf304_row9_col8,#T_cf304_row9_col10{\n",
       "            font-size:  6pt;\n",
       "            background-color:  #010101;\n",
       "            color:  #f1f1f1;\n",
       "        }#T_cf304_row3_col1{\n",
       "            font-size:  6pt;\n",
       "            background-color:  #272727;\n",
       "            color:  #f1f1f1;\n",
       "        }#T_cf304_row3_col2{\n",
       "            font-size:  6pt;\n",
       "            background-color:  #0a0a0a;\n",
       "            color:  #f1f1f1;\n",
       "        }#T_cf304_row3_col3{\n",
       "            font-size:  6pt;\n",
       "            background-color:  #050505;\n",
       "            color:  #f1f1f1;\n",
       "        }#T_cf304_row3_col5{\n",
       "            font-size:  6pt;\n",
       "            background-color:  #333333;\n",
       "            color:  #f1f1f1;\n",
       "        }#T_cf304_row3_col6{\n",
       "            font-size:  6pt;\n",
       "            background-color:  #e6e6e6;\n",
       "            color:  #000000;\n",
       "        }#T_cf304_row3_col7,#T_cf304_row3_col10{\n",
       "            font-size:  6pt;\n",
       "            background-color:  #fafafa;\n",
       "            color:  #000000;\n",
       "        }#T_cf304_row3_col8{\n",
       "            font-size:  6pt;\n",
       "            background-color:  #fbfbfb;\n",
       "            color:  #000000;\n",
       "        }#T_cf304_row3_col9{\n",
       "            font-size:  6pt;\n",
       "            background-color:  #fdfdfd;\n",
       "            color:  #000000;\n",
       "        }#T_cf304_row4_col4{\n",
       "            font-size:  6pt;\n",
       "            background-color:  #1b1b1b;\n",
       "            color:  #f1f1f1;\n",
       "        }#T_cf304_row4_col5{\n",
       "            font-size:  6pt;\n",
       "            background-color:  #e0e0e0;\n",
       "            color:  #000000;\n",
       "        }#T_cf304_row4_col11{\n",
       "            font-size:  6pt;\n",
       "            background-color:  #4e4e4e;\n",
       "            color:  #f1f1f1;\n",
       "        }#T_cf304_row4_col14{\n",
       "            font-size:  6pt;\n",
       "            background-color:  #767676;\n",
       "            color:  #000000;\n",
       "        }#T_cf304_row5_col1{\n",
       "            font-size:  6pt;\n",
       "            background-color:  #fcfcfc;\n",
       "            color:  #000000;\n",
       "        }#T_cf304_row5_col2,#T_cf304_row5_col3{\n",
       "            font-size:  6pt;\n",
       "            background-color:  #f6f6f6;\n",
       "            color:  #000000;\n",
       "        }#T_cf304_row5_col4,#T_cf304_row7_col7{\n",
       "            font-size:  6pt;\n",
       "            background-color:  #f8f8f8;\n",
       "            color:  #000000;\n",
       "        }#T_cf304_row5_col10,#T_cf304_row10_col7{\n",
       "            font-size:  6pt;\n",
       "            background-color:  #e8e8e8;\n",
       "            color:  #000000;\n",
       "        }#T_cf304_row5_col11{\n",
       "            font-size:  6pt;\n",
       "            background-color:  #222222;\n",
       "            color:  #f1f1f1;\n",
       "        }#T_cf304_row5_col13,#T_cf304_row6_col12{\n",
       "            font-size:  6pt;\n",
       "            background-color:  #090909;\n",
       "            color:  #f1f1f1;\n",
       "        }#T_cf304_row5_col14{\n",
       "            font-size:  6pt;\n",
       "            background-color:  #d0d0d0;\n",
       "            color:  #000000;\n",
       "        }#T_cf304_row6_col10,#T_cf304_row7_col11,#T_cf304_row9_col6{\n",
       "            font-size:  6pt;\n",
       "            background-color:  #060606;\n",
       "            color:  #f1f1f1;\n",
       "        }#T_cf304_row6_col13{\n",
       "            font-size:  6pt;\n",
       "            background-color:  #979797;\n",
       "            color:  #000000;\n",
       "        }#T_cf304_row7_col8{\n",
       "            font-size:  6pt;\n",
       "            background-color:  #b6b6b6;\n",
       "            color:  #000000;\n",
       "        }#T_cf304_row7_col9{\n",
       "            font-size:  6pt;\n",
       "            background-color:  #252525;\n",
       "            color:  #f1f1f1;\n",
       "        }#T_cf304_row7_col12{\n",
       "            font-size:  6pt;\n",
       "            background-color:  #999999;\n",
       "            color:  #000000;\n",
       "        }#T_cf304_row8_col5{\n",
       "            font-size:  6pt;\n",
       "            background-color:  #f9f9f9;\n",
       "            color:  #000000;\n",
       "        }#T_cf304_row8_col7{\n",
       "            font-size:  6pt;\n",
       "            background-color:  #101010;\n",
       "            color:  #f1f1f1;\n",
       "        }#T_cf304_row8_col9,#T_cf304_row9_col9{\n",
       "            font-size:  6pt;\n",
       "            background-color:  #020202;\n",
       "            color:  #f1f1f1;\n",
       "        }#T_cf304_row8_col11{\n",
       "            font-size:  6pt;\n",
       "            background-color:  #545454;\n",
       "            color:  #f1f1f1;\n",
       "        }#T_cf304_row8_col12{\n",
       "            font-size:  6pt;\n",
       "            background-color:  #f1f1f1;\n",
       "            color:  #000000;\n",
       "        }#T_cf304_row9_col5{\n",
       "            font-size:  6pt;\n",
       "            background-color:  #f7f7f7;\n",
       "            color:  #000000;\n",
       "        }#T_cf304_row9_col7{\n",
       "            font-size:  6pt;\n",
       "            background-color:  #030303;\n",
       "            color:  #f1f1f1;\n",
       "        }#T_cf304_row9_col12{\n",
       "            font-size:  6pt;\n",
       "            background-color:  #181818;\n",
       "            color:  #f1f1f1;\n",
       "        }#T_cf304_row9_col13{\n",
       "            font-size:  6pt;\n",
       "            background-color:  #303030;\n",
       "            color:  #f1f1f1;\n",
       "        }#T_cf304_row9_col14{\n",
       "            font-size:  6pt;\n",
       "            background-color:  #a9a9a9;\n",
       "            color:  #000000;\n",
       "        }#T_cf304_row9_col15{\n",
       "            font-size:  6pt;\n",
       "            background-color:  #fefefe;\n",
       "            color:  #000000;\n",
       "        }#T_cf304_row10_col8,#T_cf304_row10_col9{\n",
       "            font-size:  6pt;\n",
       "            background-color:  #bababa;\n",
       "            color:  #000000;\n",
       "        }#T_cf304_row10_col10{\n",
       "            font-size:  6pt;\n",
       "            background-color:  #393939;\n",
       "            color:  #f1f1f1;\n",
       "        }</style><table id=\"T_cf304_\" ><thead>    <tr>        <th class=\"blank level0\" ></th>        <th class=\"col_heading level0 col0\" >0</th>        <th class=\"col_heading level0 col1\" >1</th>        <th class=\"col_heading level0 col2\" >2</th>        <th class=\"col_heading level0 col3\" >3</th>        <th class=\"col_heading level0 col4\" >4</th>        <th class=\"col_heading level0 col5\" >5</th>        <th class=\"col_heading level0 col6\" >6</th>        <th class=\"col_heading level0 col7\" >7</th>        <th class=\"col_heading level0 col8\" >8</th>        <th class=\"col_heading level0 col9\" >9</th>        <th class=\"col_heading level0 col10\" >10</th>        <th class=\"col_heading level0 col11\" >11</th>        <th class=\"col_heading level0 col12\" >12</th>        <th class=\"col_heading level0 col13\" >13</th>        <th class=\"col_heading level0 col14\" >14</th>        <th class=\"col_heading level0 col15\" >15</th>        <th class=\"col_heading level0 col16\" >16</th>        <th class=\"col_heading level0 col17\" >17</th>    </tr></thead><tbody>\n",
       "                <tr>\n",
       "                        <th id=\"T_cf304_level0_row0\" class=\"row_heading level0 row0\" >0</th>\n",
       "                        <td id=\"T_cf304_row0_col0\" class=\"data row0 col0\" >0</td>\n",
       "                        <td id=\"T_cf304_row0_col1\" class=\"data row0 col1\" >0</td>\n",
       "                        <td id=\"T_cf304_row0_col2\" class=\"data row0 col2\" >0</td>\n",
       "                        <td id=\"T_cf304_row0_col3\" class=\"data row0 col3\" >0</td>\n",
       "                        <td id=\"T_cf304_row0_col4\" class=\"data row0 col4\" >0</td>\n",
       "                        <td id=\"T_cf304_row0_col5\" class=\"data row0 col5\" >0</td>\n",
       "                        <td id=\"T_cf304_row0_col6\" class=\"data row0 col6\" >0</td>\n",
       "                        <td id=\"T_cf304_row0_col7\" class=\"data row0 col7\" >0</td>\n",
       "                        <td id=\"T_cf304_row0_col8\" class=\"data row0 col8\" >0</td>\n",
       "                        <td id=\"T_cf304_row0_col9\" class=\"data row0 col9\" >0</td>\n",
       "                        <td id=\"T_cf304_row0_col10\" class=\"data row0 col10\" >0</td>\n",
       "                        <td id=\"T_cf304_row0_col11\" class=\"data row0 col11\" >0</td>\n",
       "                        <td id=\"T_cf304_row0_col12\" class=\"data row0 col12\" >0</td>\n",
       "                        <td id=\"T_cf304_row0_col13\" class=\"data row0 col13\" >0</td>\n",
       "                        <td id=\"T_cf304_row0_col14\" class=\"data row0 col14\" >0</td>\n",
       "                        <td id=\"T_cf304_row0_col15\" class=\"data row0 col15\" >0</td>\n",
       "                        <td id=\"T_cf304_row0_col16\" class=\"data row0 col16\" >0</td>\n",
       "                        <td id=\"T_cf304_row0_col17\" class=\"data row0 col17\" >0</td>\n",
       "            </tr>\n",
       "            <tr>\n",
       "                        <th id=\"T_cf304_level0_row1\" class=\"row_heading level0 row1\" >1</th>\n",
       "                        <td id=\"T_cf304_row1_col0\" class=\"data row1 col0\" >0</td>\n",
       "                        <td id=\"T_cf304_row1_col1\" class=\"data row1 col1\" >0</td>\n",
       "                        <td id=\"T_cf304_row1_col2\" class=\"data row1 col2\" >0</td>\n",
       "                        <td id=\"T_cf304_row1_col3\" class=\"data row1 col3\" >0</td>\n",
       "                        <td id=\"T_cf304_row1_col4\" class=\"data row1 col4\" >0</td>\n",
       "                        <td id=\"T_cf304_row1_col5\" class=\"data row1 col5\" >29</td>\n",
       "                        <td id=\"T_cf304_row1_col6\" class=\"data row1 col6\" >150</td>\n",
       "                        <td id=\"T_cf304_row1_col7\" class=\"data row1 col7\" >195</td>\n",
       "                        <td id=\"T_cf304_row1_col8\" class=\"data row1 col8\" >254</td>\n",
       "                        <td id=\"T_cf304_row1_col9\" class=\"data row1 col9\" >255</td>\n",
       "                        <td id=\"T_cf304_row1_col10\" class=\"data row1 col10\" >254</td>\n",
       "                        <td id=\"T_cf304_row1_col11\" class=\"data row1 col11\" >176</td>\n",
       "                        <td id=\"T_cf304_row1_col12\" class=\"data row1 col12\" >193</td>\n",
       "                        <td id=\"T_cf304_row1_col13\" class=\"data row1 col13\" >150</td>\n",
       "                        <td id=\"T_cf304_row1_col14\" class=\"data row1 col14\" >96</td>\n",
       "                        <td id=\"T_cf304_row1_col15\" class=\"data row1 col15\" >0</td>\n",
       "                        <td id=\"T_cf304_row1_col16\" class=\"data row1 col16\" >0</td>\n",
       "                        <td id=\"T_cf304_row1_col17\" class=\"data row1 col17\" >0</td>\n",
       "            </tr>\n",
       "            <tr>\n",
       "                        <th id=\"T_cf304_level0_row2\" class=\"row_heading level0 row2\" >2</th>\n",
       "                        <td id=\"T_cf304_row2_col0\" class=\"data row2 col0\" >0</td>\n",
       "                        <td id=\"T_cf304_row2_col1\" class=\"data row2 col1\" >0</td>\n",
       "                        <td id=\"T_cf304_row2_col2\" class=\"data row2 col2\" >0</td>\n",
       "                        <td id=\"T_cf304_row2_col3\" class=\"data row2 col3\" >48</td>\n",
       "                        <td id=\"T_cf304_row2_col4\" class=\"data row2 col4\" >166</td>\n",
       "                        <td id=\"T_cf304_row2_col5\" class=\"data row2 col5\" >224</td>\n",
       "                        <td id=\"T_cf304_row2_col6\" class=\"data row2 col6\" >253</td>\n",
       "                        <td id=\"T_cf304_row2_col7\" class=\"data row2 col7\" >253</td>\n",
       "                        <td id=\"T_cf304_row2_col8\" class=\"data row2 col8\" >234</td>\n",
       "                        <td id=\"T_cf304_row2_col9\" class=\"data row2 col9\" >196</td>\n",
       "                        <td id=\"T_cf304_row2_col10\" class=\"data row2 col10\" >253</td>\n",
       "                        <td id=\"T_cf304_row2_col11\" class=\"data row2 col11\" >253</td>\n",
       "                        <td id=\"T_cf304_row2_col12\" class=\"data row2 col12\" >253</td>\n",
       "                        <td id=\"T_cf304_row2_col13\" class=\"data row2 col13\" >253</td>\n",
       "                        <td id=\"T_cf304_row2_col14\" class=\"data row2 col14\" >233</td>\n",
       "                        <td id=\"T_cf304_row2_col15\" class=\"data row2 col15\" >0</td>\n",
       "                        <td id=\"T_cf304_row2_col16\" class=\"data row2 col16\" >0</td>\n",
       "                        <td id=\"T_cf304_row2_col17\" class=\"data row2 col17\" >0</td>\n",
       "            </tr>\n",
       "            <tr>\n",
       "                        <th id=\"T_cf304_level0_row3\" class=\"row_heading level0 row3\" >3</th>\n",
       "                        <td id=\"T_cf304_row3_col0\" class=\"data row3 col0\" >0</td>\n",
       "                        <td id=\"T_cf304_row3_col1\" class=\"data row3 col1\" >93</td>\n",
       "                        <td id=\"T_cf304_row3_col2\" class=\"data row3 col2\" >244</td>\n",
       "                        <td id=\"T_cf304_row3_col3\" class=\"data row3 col3\" >249</td>\n",
       "                        <td id=\"T_cf304_row3_col4\" class=\"data row3 col4\" >253</td>\n",
       "                        <td id=\"T_cf304_row3_col5\" class=\"data row3 col5\" >187</td>\n",
       "                        <td id=\"T_cf304_row3_col6\" class=\"data row3 col6\" >46</td>\n",
       "                        <td id=\"T_cf304_row3_col7\" class=\"data row3 col7\" >10</td>\n",
       "                        <td id=\"T_cf304_row3_col8\" class=\"data row3 col8\" >8</td>\n",
       "                        <td id=\"T_cf304_row3_col9\" class=\"data row3 col9\" >4</td>\n",
       "                        <td id=\"T_cf304_row3_col10\" class=\"data row3 col10\" >10</td>\n",
       "                        <td id=\"T_cf304_row3_col11\" class=\"data row3 col11\" >194</td>\n",
       "                        <td id=\"T_cf304_row3_col12\" class=\"data row3 col12\" >253</td>\n",
       "                        <td id=\"T_cf304_row3_col13\" class=\"data row3 col13\" >253</td>\n",
       "                        <td id=\"T_cf304_row3_col14\" class=\"data row3 col14\" >233</td>\n",
       "                        <td id=\"T_cf304_row3_col15\" class=\"data row3 col15\" >0</td>\n",
       "                        <td id=\"T_cf304_row3_col16\" class=\"data row3 col16\" >0</td>\n",
       "                        <td id=\"T_cf304_row3_col17\" class=\"data row3 col17\" >0</td>\n",
       "            </tr>\n",
       "            <tr>\n",
       "                        <th id=\"T_cf304_level0_row4\" class=\"row_heading level0 row4\" >4</th>\n",
       "                        <td id=\"T_cf304_row4_col0\" class=\"data row4 col0\" >0</td>\n",
       "                        <td id=\"T_cf304_row4_col1\" class=\"data row4 col1\" >107</td>\n",
       "                        <td id=\"T_cf304_row4_col2\" class=\"data row4 col2\" >253</td>\n",
       "                        <td id=\"T_cf304_row4_col3\" class=\"data row4 col3\" >253</td>\n",
       "                        <td id=\"T_cf304_row4_col4\" class=\"data row4 col4\" >230</td>\n",
       "                        <td id=\"T_cf304_row4_col5\" class=\"data row4 col5\" >48</td>\n",
       "                        <td id=\"T_cf304_row4_col6\" class=\"data row4 col6\" >0</td>\n",
       "                        <td id=\"T_cf304_row4_col7\" class=\"data row4 col7\" >0</td>\n",
       "                        <td id=\"T_cf304_row4_col8\" class=\"data row4 col8\" >0</td>\n",
       "                        <td id=\"T_cf304_row4_col9\" class=\"data row4 col9\" >0</td>\n",
       "                        <td id=\"T_cf304_row4_col10\" class=\"data row4 col10\" >0</td>\n",
       "                        <td id=\"T_cf304_row4_col11\" class=\"data row4 col11\" >192</td>\n",
       "                        <td id=\"T_cf304_row4_col12\" class=\"data row4 col12\" >253</td>\n",
       "                        <td id=\"T_cf304_row4_col13\" class=\"data row4 col13\" >253</td>\n",
       "                        <td id=\"T_cf304_row4_col14\" class=\"data row4 col14\" >156</td>\n",
       "                        <td id=\"T_cf304_row4_col15\" class=\"data row4 col15\" >0</td>\n",
       "                        <td id=\"T_cf304_row4_col16\" class=\"data row4 col16\" >0</td>\n",
       "                        <td id=\"T_cf304_row4_col17\" class=\"data row4 col17\" >0</td>\n",
       "            </tr>\n",
       "            <tr>\n",
       "                        <th id=\"T_cf304_level0_row5\" class=\"row_heading level0 row5\" >5</th>\n",
       "                        <td id=\"T_cf304_row5_col0\" class=\"data row5 col0\" >0</td>\n",
       "                        <td id=\"T_cf304_row5_col1\" class=\"data row5 col1\" >3</td>\n",
       "                        <td id=\"T_cf304_row5_col2\" class=\"data row5 col2\" >20</td>\n",
       "                        <td id=\"T_cf304_row5_col3\" class=\"data row5 col3\" >20</td>\n",
       "                        <td id=\"T_cf304_row5_col4\" class=\"data row5 col4\" >15</td>\n",
       "                        <td id=\"T_cf304_row5_col5\" class=\"data row5 col5\" >0</td>\n",
       "                        <td id=\"T_cf304_row5_col6\" class=\"data row5 col6\" >0</td>\n",
       "                        <td id=\"T_cf304_row5_col7\" class=\"data row5 col7\" >0</td>\n",
       "                        <td id=\"T_cf304_row5_col8\" class=\"data row5 col8\" >0</td>\n",
       "                        <td id=\"T_cf304_row5_col9\" class=\"data row5 col9\" >0</td>\n",
       "                        <td id=\"T_cf304_row5_col10\" class=\"data row5 col10\" >43</td>\n",
       "                        <td id=\"T_cf304_row5_col11\" class=\"data row5 col11\" >224</td>\n",
       "                        <td id=\"T_cf304_row5_col12\" class=\"data row5 col12\" >253</td>\n",
       "                        <td id=\"T_cf304_row5_col13\" class=\"data row5 col13\" >245</td>\n",
       "                        <td id=\"T_cf304_row5_col14\" class=\"data row5 col14\" >74</td>\n",
       "                        <td id=\"T_cf304_row5_col15\" class=\"data row5 col15\" >0</td>\n",
       "                        <td id=\"T_cf304_row5_col16\" class=\"data row5 col16\" >0</td>\n",
       "                        <td id=\"T_cf304_row5_col17\" class=\"data row5 col17\" >0</td>\n",
       "            </tr>\n",
       "            <tr>\n",
       "                        <th id=\"T_cf304_level0_row6\" class=\"row_heading level0 row6\" >6</th>\n",
       "                        <td id=\"T_cf304_row6_col0\" class=\"data row6 col0\" >0</td>\n",
       "                        <td id=\"T_cf304_row6_col1\" class=\"data row6 col1\" >0</td>\n",
       "                        <td id=\"T_cf304_row6_col2\" class=\"data row6 col2\" >0</td>\n",
       "                        <td id=\"T_cf304_row6_col3\" class=\"data row6 col3\" >0</td>\n",
       "                        <td id=\"T_cf304_row6_col4\" class=\"data row6 col4\" >0</td>\n",
       "                        <td id=\"T_cf304_row6_col5\" class=\"data row6 col5\" >0</td>\n",
       "                        <td id=\"T_cf304_row6_col6\" class=\"data row6 col6\" >0</td>\n",
       "                        <td id=\"T_cf304_row6_col7\" class=\"data row6 col7\" >0</td>\n",
       "                        <td id=\"T_cf304_row6_col8\" class=\"data row6 col8\" >0</td>\n",
       "                        <td id=\"T_cf304_row6_col9\" class=\"data row6 col9\" >0</td>\n",
       "                        <td id=\"T_cf304_row6_col10\" class=\"data row6 col10\" >249</td>\n",
       "                        <td id=\"T_cf304_row6_col11\" class=\"data row6 col11\" >253</td>\n",
       "                        <td id=\"T_cf304_row6_col12\" class=\"data row6 col12\" >245</td>\n",
       "                        <td id=\"T_cf304_row6_col13\" class=\"data row6 col13\" >126</td>\n",
       "                        <td id=\"T_cf304_row6_col14\" class=\"data row6 col14\" >0</td>\n",
       "                        <td id=\"T_cf304_row6_col15\" class=\"data row6 col15\" >0</td>\n",
       "                        <td id=\"T_cf304_row6_col16\" class=\"data row6 col16\" >0</td>\n",
       "                        <td id=\"T_cf304_row6_col17\" class=\"data row6 col17\" >0</td>\n",
       "            </tr>\n",
       "            <tr>\n",
       "                        <th id=\"T_cf304_level0_row7\" class=\"row_heading level0 row7\" >7</th>\n",
       "                        <td id=\"T_cf304_row7_col0\" class=\"data row7 col0\" >0</td>\n",
       "                        <td id=\"T_cf304_row7_col1\" class=\"data row7 col1\" >0</td>\n",
       "                        <td id=\"T_cf304_row7_col2\" class=\"data row7 col2\" >0</td>\n",
       "                        <td id=\"T_cf304_row7_col3\" class=\"data row7 col3\" >0</td>\n",
       "                        <td id=\"T_cf304_row7_col4\" class=\"data row7 col4\" >0</td>\n",
       "                        <td id=\"T_cf304_row7_col5\" class=\"data row7 col5\" >0</td>\n",
       "                        <td id=\"T_cf304_row7_col6\" class=\"data row7 col6\" >0</td>\n",
       "                        <td id=\"T_cf304_row7_col7\" class=\"data row7 col7\" >14</td>\n",
       "                        <td id=\"T_cf304_row7_col8\" class=\"data row7 col8\" >101</td>\n",
       "                        <td id=\"T_cf304_row7_col9\" class=\"data row7 col9\" >223</td>\n",
       "                        <td id=\"T_cf304_row7_col10\" class=\"data row7 col10\" >253</td>\n",
       "                        <td id=\"T_cf304_row7_col11\" class=\"data row7 col11\" >248</td>\n",
       "                        <td id=\"T_cf304_row7_col12\" class=\"data row7 col12\" >124</td>\n",
       "                        <td id=\"T_cf304_row7_col13\" class=\"data row7 col13\" >0</td>\n",
       "                        <td id=\"T_cf304_row7_col14\" class=\"data row7 col14\" >0</td>\n",
       "                        <td id=\"T_cf304_row7_col15\" class=\"data row7 col15\" >0</td>\n",
       "                        <td id=\"T_cf304_row7_col16\" class=\"data row7 col16\" >0</td>\n",
       "                        <td id=\"T_cf304_row7_col17\" class=\"data row7 col17\" >0</td>\n",
       "            </tr>\n",
       "            <tr>\n",
       "                        <th id=\"T_cf304_level0_row8\" class=\"row_heading level0 row8\" >8</th>\n",
       "                        <td id=\"T_cf304_row8_col0\" class=\"data row8 col0\" >0</td>\n",
       "                        <td id=\"T_cf304_row8_col1\" class=\"data row8 col1\" >0</td>\n",
       "                        <td id=\"T_cf304_row8_col2\" class=\"data row8 col2\" >0</td>\n",
       "                        <td id=\"T_cf304_row8_col3\" class=\"data row8 col3\" >0</td>\n",
       "                        <td id=\"T_cf304_row8_col4\" class=\"data row8 col4\" >0</td>\n",
       "                        <td id=\"T_cf304_row8_col5\" class=\"data row8 col5\" >11</td>\n",
       "                        <td id=\"T_cf304_row8_col6\" class=\"data row8 col6\" >166</td>\n",
       "                        <td id=\"T_cf304_row8_col7\" class=\"data row8 col7\" >239</td>\n",
       "                        <td id=\"T_cf304_row8_col8\" class=\"data row8 col8\" >253</td>\n",
       "                        <td id=\"T_cf304_row8_col9\" class=\"data row8 col9\" >253</td>\n",
       "                        <td id=\"T_cf304_row8_col10\" class=\"data row8 col10\" >253</td>\n",
       "                        <td id=\"T_cf304_row8_col11\" class=\"data row8 col11\" >187</td>\n",
       "                        <td id=\"T_cf304_row8_col12\" class=\"data row8 col12\" >30</td>\n",
       "                        <td id=\"T_cf304_row8_col13\" class=\"data row8 col13\" >0</td>\n",
       "                        <td id=\"T_cf304_row8_col14\" class=\"data row8 col14\" >0</td>\n",
       "                        <td id=\"T_cf304_row8_col15\" class=\"data row8 col15\" >0</td>\n",
       "                        <td id=\"T_cf304_row8_col16\" class=\"data row8 col16\" >0</td>\n",
       "                        <td id=\"T_cf304_row8_col17\" class=\"data row8 col17\" >0</td>\n",
       "            </tr>\n",
       "            <tr>\n",
       "                        <th id=\"T_cf304_level0_row9\" class=\"row_heading level0 row9\" >9</th>\n",
       "                        <td id=\"T_cf304_row9_col0\" class=\"data row9 col0\" >0</td>\n",
       "                        <td id=\"T_cf304_row9_col1\" class=\"data row9 col1\" >0</td>\n",
       "                        <td id=\"T_cf304_row9_col2\" class=\"data row9 col2\" >0</td>\n",
       "                        <td id=\"T_cf304_row9_col3\" class=\"data row9 col3\" >0</td>\n",
       "                        <td id=\"T_cf304_row9_col4\" class=\"data row9 col4\" >0</td>\n",
       "                        <td id=\"T_cf304_row9_col5\" class=\"data row9 col5\" >16</td>\n",
       "                        <td id=\"T_cf304_row9_col6\" class=\"data row9 col6\" >248</td>\n",
       "                        <td id=\"T_cf304_row9_col7\" class=\"data row9 col7\" >250</td>\n",
       "                        <td id=\"T_cf304_row9_col8\" class=\"data row9 col8\" >253</td>\n",
       "                        <td id=\"T_cf304_row9_col9\" class=\"data row9 col9\" >253</td>\n",
       "                        <td id=\"T_cf304_row9_col10\" class=\"data row9 col10\" >253</td>\n",
       "                        <td id=\"T_cf304_row9_col11\" class=\"data row9 col11\" >253</td>\n",
       "                        <td id=\"T_cf304_row9_col12\" class=\"data row9 col12\" >232</td>\n",
       "                        <td id=\"T_cf304_row9_col13\" class=\"data row9 col13\" >213</td>\n",
       "                        <td id=\"T_cf304_row9_col14\" class=\"data row9 col14\" >111</td>\n",
       "                        <td id=\"T_cf304_row9_col15\" class=\"data row9 col15\" >2</td>\n",
       "                        <td id=\"T_cf304_row9_col16\" class=\"data row9 col16\" >0</td>\n",
       "                        <td id=\"T_cf304_row9_col17\" class=\"data row9 col17\" >0</td>\n",
       "            </tr>\n",
       "            <tr>\n",
       "                        <th id=\"T_cf304_level0_row10\" class=\"row_heading level0 row10\" >10</th>\n",
       "                        <td id=\"T_cf304_row10_col0\" class=\"data row10 col0\" >0</td>\n",
       "                        <td id=\"T_cf304_row10_col1\" class=\"data row10 col1\" >0</td>\n",
       "                        <td id=\"T_cf304_row10_col2\" class=\"data row10 col2\" >0</td>\n",
       "                        <td id=\"T_cf304_row10_col3\" class=\"data row10 col3\" >0</td>\n",
       "                        <td id=\"T_cf304_row10_col4\" class=\"data row10 col4\" >0</td>\n",
       "                        <td id=\"T_cf304_row10_col5\" class=\"data row10 col5\" >0</td>\n",
       "                        <td id=\"T_cf304_row10_col6\" class=\"data row10 col6\" >0</td>\n",
       "                        <td id=\"T_cf304_row10_col7\" class=\"data row10 col7\" >43</td>\n",
       "                        <td id=\"T_cf304_row10_col8\" class=\"data row10 col8\" >98</td>\n",
       "                        <td id=\"T_cf304_row10_col9\" class=\"data row10 col9\" >98</td>\n",
       "                        <td id=\"T_cf304_row10_col10\" class=\"data row10 col10\" >208</td>\n",
       "                        <td id=\"T_cf304_row10_col11\" class=\"data row10 col11\" >253</td>\n",
       "                        <td id=\"T_cf304_row10_col12\" class=\"data row10 col12\" >253</td>\n",
       "                        <td id=\"T_cf304_row10_col13\" class=\"data row10 col13\" >253</td>\n",
       "                        <td id=\"T_cf304_row10_col14\" class=\"data row10 col14\" >253</td>\n",
       "                        <td id=\"T_cf304_row10_col15\" class=\"data row10 col15\" >187</td>\n",
       "                        <td id=\"T_cf304_row10_col16\" class=\"data row10 col16\" >22</td>\n",
       "                        <td id=\"T_cf304_row10_col17\" class=\"data row10 col17\" >0</td>\n",
       "            </tr>\n",
       "    </tbody></table>"
      ],
      "text/plain": [
       "<pandas.io.formats.style.Styler at 0x7f19c77a5710>"
      ]
     },
     "execution_count": 10,
     "metadata": {},
     "output_type": "execute_result"
    }
   ],
   "source": [
    "im3_t = tensor(im3)\n",
    "df = pd.DataFrame(im3_t[4:15, 4:22])\n",
    "df.style.set_properties(**{'font-size': '6pt'}).background_gradient('Greys')"
   ]
  },
  {
   "cell_type": "markdown",
   "id": "1d035f69",
   "metadata": {},
   "source": [
    "### How would you compare a 3 and a 7 in an algorithm?"
   ]
  },
  {
   "cell_type": "markdown",
   "id": "5ad1d70a",
   "metadata": {},
   "source": [
    "## First Try: Pixel Similarity"
   ]
  },
  {
   "cell_type": "markdown",
   "id": "5b483d12",
   "metadata": {},
   "source": [
    "An idea is to average all of the 3's and 7's pixel values, and then see when either a 3 or a 7 is classified by the average taken"
   ]
  },
  {
   "cell_type": "markdown",
   "id": "91efaecd",
   "metadata": {},
   "source": [
    "### 1) Get all of the 3's and 7's"
   ]
  },
  {
   "cell_type": "markdown",
   "id": "efa21356",
   "metadata": {},
   "source": [
    "The cell below coverts each of the images of 3's and 7's into pytorch tensors"
   ]
  },
  {
   "cell_type": "code",
   "execution_count": 11,
   "id": "d2ffe2a8",
   "metadata": {},
   "outputs": [
    {
     "data": {
      "text/plain": [
       "(6131, 6265)"
      ]
     },
     "execution_count": 11,
     "metadata": {},
     "output_type": "execute_result"
    }
   ],
   "source": [
    "seven_tensors = [tensor(Image.open(o)) for o in sevens]\n",
    "three_tensors = [tensor(Image.open(o)) for o in threes]\n",
    "len(three_tensors), len(seven_tensors)"
   ]
  },
  {
   "cell_type": "code",
   "execution_count": 12,
   "id": "94015ae6",
   "metadata": {},
   "outputs": [
    {
     "data": {
      "text/plain": [
       "<AxesSubplot:>"
      ]
     },
     "execution_count": 12,
     "metadata": {},
     "output_type": "execute_result"
    },
    {
     "data": {
      "image/png": "[encoded data removed]",
      "text/plain": [
       "<Figure size 72x72 with 1 Axes>"
      ]
     },
     "metadata": {
      "needs_background": "light"
     },
     "output_type": "display_data"
    }
   ],
   "source": [
    "show_image(three_tensors[1])"
   ]
  },
  {
   "cell_type": "code",
   "execution_count": 13,
   "id": "4e449df1",
   "metadata": {},
   "outputs": [
    {
     "data": {
      "text/plain": [
       "<AxesSubplot:>"
      ]
     },
     "execution_count": 13,
     "metadata": {},
     "output_type": "execute_result"
    },
    {
     "data": {
      "image/png": "[encoded data removed]",
      "text/plain": [
       "<Figure size 72x72 with 1 Axes>"
      ]
     },
     "metadata": {
      "needs_background": "light"
     },
     "output_type": "display_data"
    }
   ],
   "source": [
    "show_image(seven_tensors[1])"
   ]
  },
  {
   "cell_type": "markdown",
   "id": "aef60215",
   "metadata": {},
   "source": [
    "### 2) Get the average of all of the 3 and 7 tensors"
   ]
  },
  {
   "cell_type": "markdown",
   "id": "440e4e67",
   "metadata": {},
   "source": [
    "Idea: Stack all of the `3` tensors on top of each other (like a stack of flapjacks/pancakes/3d cube). Insert a `matplotlib` 3d visualization of a cube with the layers. look at this blog post [here](https://medium.com/swlh/python-data-visualization-with-matplotlib-for-absolute-beginner-part-iii-three-dimensional-8284df93dfab)."
   ]
  },
  {
   "cell_type": "code",
   "execution_count": 14,
   "id": "eeb72cd5",
   "metadata": {},
   "outputs": [
    {
     "data": {
      "text/plain": [
       "torch.Size([6131, 28, 28])"
      ]
     },
     "execution_count": 14,
     "metadata": {},
     "output_type": "execute_result"
    }
   ],
   "source": [
    "# .float() is there because you don't want the rounding effect of type 'integer' for getting the mean\n",
    "# in the field of computer vision, the pixels will be between 0-255. You really want the values to be between 0-1\n",
    "stacked_sevens = torch.stack(seven_tensors).float()/255\n",
    "stacked_threes = torch.stack(three_tensors).float()/255\n",
    "stacked_threes.shape"
   ]
  },
  {
   "cell_type": "markdown",
   "id": "acf50c38",
   "metadata": {},
   "source": [
    "The above shows you that you have `6131` images/\"pancakes\". In terms of a 3d Cube, `6131` is also the height. The `28` and `28` are the rows and columns respectively. A way to read this is:\n",
    "\n",
    "   **You have 6131 images which each have 28 x 28 rows and columns inside one tensor**"
   ]
  },
  {
   "cell_type": "markdown",
   "id": "304a3b8b",
   "metadata": {},
   "source": [
    "`torch.Size([6131, 28, 28])` is a rank 3 tensor because of it's length or how many numbers are outputted with the `tensor.shape()` command. These numbers are also called `dimensions` in pytorch and `axes` in numpy. Thus, you could say that both `stacked_sevens` and `stacked_threes` have 3 `dimensions`."
   ]
  },
  {
   "cell_type": "code",
   "execution_count": 15,
   "id": "b912864c",
   "metadata": {},
   "outputs": [
    {
     "data": {
      "text/plain": [
       "tensor(0.1415)"
      ]
     },
     "execution_count": 15,
     "metadata": {},
     "output_type": "execute_result"
    }
   ],
   "source": [
    "stacked_threes.mean() # this value is the average of the whole \"cube\" or \"stack of flapjacks/pancakes\""
   ]
  },
  {
   "cell_type": "code",
   "execution_count": 16,
   "id": "097feb21",
   "metadata": {},
   "outputs": [
    {
     "data": {
      "text/plain": [
       "<AxesSubplot:>"
      ]
     },
     "execution_count": 16,
     "metadata": {},
     "output_type": "execute_result"
    },
    {
     "data": {
      "image/png": "[encoded data removed]",
      "text/plain": [
       "<Figure size 72x72 with 1 Axes>"
      ]
     },
     "metadata": {
      "needs_background": "light"
     },
     "output_type": "display_data"
    }
   ],
   "source": [
    "mean3 = stacked_threes.mean(0) # this saying to take the average of the `0` axis which is 6131\n",
    "show_image(mean3)"
   ]
  },
  {
   "cell_type": "code",
   "execution_count": 17,
   "id": "6e22f4e4",
   "metadata": {},
   "outputs": [
    {
     "data": {
      "text/plain": [
       "torch.Size([28, 28])"
      ]
     },
     "execution_count": 17,
     "metadata": {},
     "output_type": "execute_result"
    }
   ],
   "source": [
    "mean3.shape"
   ]
  },
  {
   "cell_type": "markdown",
   "id": "1758b2b7",
   "metadata": {},
   "source": [
    "Note: You took the aveage across each of the images. So instead of getting the average of each individual tensor/image with the `stacked_thress.mean()` command (which mean you are doing the `sum of 6131 averages/6131`), you are getting each **individual pixels average**.\n",
    "\n",
    "For example, there are **784** pixels per image and there are 6131 images (which have been converted to pytorch tensors). `stacked_threes.mean(0)` is getting the average for **ALL** **1 of 784** pixels across the 6131 tensors. Then it goes to the next **2 of 784** pixels across the 6131 tensors. This keeps going until you have a tensor of shape `tensor([28,28])."
   ]
  },
  {
   "cell_type": "code",
   "execution_count": 18,
   "id": "e60f7658",
   "metadata": {},
   "outputs": [
    {
     "data": {
      "text/plain": [
       "<AxesSubplot:>"
      ]
     },
     "execution_count": 18,
     "metadata": {},
     "output_type": "execute_result"
    },
    {
     "data": {
      "image/png": "[encoded data removed]",
      "text/plain": [
       "<Figure size 72x72 with 1 Axes>"
      ]
     },
     "metadata": {
      "needs_background": "light"
     },
     "output_type": "display_data"
    }
   ],
   "source": [
    "mean7 = stacked_sevens.mean(0)\n",
    "show_image(mean7)"
   ]
  },
  {
   "cell_type": "markdown",
   "id": "74c87577",
   "metadata": {},
   "source": [
    "### 3) Check: Is the `stacked_three` more similar to the `mean3` or the `mean7`?"
   ]
  },
  {
   "cell_type": "markdown",
   "id": "eda9dcb4",
   "metadata": {},
   "source": [
    "`L1 Norm`: take the mean of the absolute value of differences\n",
    "\n",
    "`L2 Norm`: take the mean of the square of differences and then take the square root "
   ]
  },
  {
   "cell_type": "code",
   "execution_count": 20,
   "id": "715b7e1d",
   "metadata": {},
   "outputs": [],
   "source": [
    "a_3 = stacked_threes[1]\n",
    "a_7 = stacked_sevens[1]"
   ]
  },
  {
   "cell_type": "markdown",
   "id": "e88b63e2",
   "metadata": {},
   "source": [
    "Note: When you are getting the distance between each tensor you do the following below to get rid of the negatives during the computation with either l1 norm or l2 norm as negatives don't really help in letting you know how close the `mean` value is from the `actual` value"
   ]
  },
  {
   "cell_type": "code",
   "execution_count": 21,
   "id": "a5a113cb",
   "metadata": {},
   "outputs": [
    {
     "data": {
      "text/plain": [
       "(tensor(0.1114), tensor(0.2021))"
      ]
     },
     "execution_count": 21,
     "metadata": {},
     "output_type": "execute_result"
    }
   ],
   "source": [
    "dist_3_abs = (a_3 - mean3).abs().mean() # l1 norm\n",
    "dist_3_sqr = ((a_3 - mean3)**2).mean().sqrt() #l2 norm\n",
    "dist_3_abs, dist_3_sqr"
   ]
  },
  {
   "cell_type": "code",
   "execution_count": 23,
   "id": "f0a285f8",
   "metadata": {},
   "outputs": [
    {
     "data": {
      "text/plain": [
       "(tensor(0.1304), tensor(0.2585))"
      ]
     },
     "execution_count": 23,
     "metadata": {},
     "output_type": "execute_result"
    }
   ],
   "source": [
    "dist_7_abs = (a_7 - mean7).abs().mean()\n",
    "dist_7_sqr = ((a_7 - mean7)**2).mean().sqrt()\n",
    "dist_7_abs, dist_7_sqr"
   ]
  },
  {
   "cell_type": "markdown",
   "id": "54bb9e5d",
   "metadata": {},
   "source": [
    "`dist_3_abs` vs. `dist_7_abs`: `dist_3_abs` is closer with the value being 0.11 vs 0.13\n",
    "\n",
    "`dist_7_sqr` vs. `dist_7_sqr`: `dist_7_sqr` is closer with the value being 0.20 vs 0.25"
   ]
  },
  {
   "cell_type": "code",
   "execution_count": 25,
   "id": "124e4cb0",
   "metadata": {},
   "outputs": [
    {
     "data": {
      "text/plain": [
       "(tensor(0.1586), tensor(0.3021))"
      ]
     },
     "execution_count": 25,
     "metadata": {},
     "output_type": "execute_result"
    }
   ],
   "source": [
    "F.l1_loss(a_3.float(), mean7), F.mse_loss(a_3, mean7).sqrt() # pytorch equivalent of the above 👆🏾"
   ]
  },
  {
   "cell_type": "markdown",
   "id": "98a926b6",
   "metadata": {},
   "source": [
    "### 4) Computing the Metrics using broadcasting"
   ]
  },
  {
   "cell_type": "code",
   "execution_count": 26,
   "id": "faddb75f",
   "metadata": {},
   "outputs": [
    {
     "data": {
      "text/plain": [
       "(torch.Size([1010, 28, 28]), torch.Size([1028, 28, 28]))"
      ]
     },
     "execution_count": 26,
     "metadata": {},
     "output_type": "execute_result"
    }
   ],
   "source": [
    "valid_3_tens = torch.stack([tensor(Image.open(o)) for o in (path/'valid'/'3').ls()])\n",
    "valid_3_tens = valid_3_tens.float()/255\n",
    "valid_7_tens = torch.stack([tensor(Image.open(o)) for o in (path/'valid'/'7').ls()])\n",
    "valid_7_tens = valid_7_tens.float()/255\n",
    "\n",
    "valid_3_tens.shape, valid_7_tens.shape"
   ]
  },
  {
   "cell_type": "markdown",
   "id": "867d3774",
   "metadata": {},
   "source": [
    "This function below is trying to calculate the distance between two images (like we did above). Distance here is between the two tensors and their values"
   ]
  },
  {
   "cell_type": "code",
   "execution_count": 28,
   "id": "60fb875f",
   "metadata": {},
   "outputs": [
    {
     "data": {
      "text/plain": [
       "tensor(0.1114)"
      ]
     },
     "execution_count": 28,
     "metadata": {},
     "output_type": "execute_result"
    }
   ],
   "source": [
    "def mnist_distance(a,b): return (a-b).abs().mean((-1,-2)) # this is taking the mean across the x, y axis (or the row and columns)\n",
    "mnist_distance(a_3, mean3)"
   ]
  },
  {
   "cell_type": "markdown",
   "id": "5bbba9db",
   "metadata": {},
   "source": [
    "We want to do the above function for every image in the validation data. We can do the following cell because of `broadcasting` in pytorch."
   ]
  },
  {
   "cell_type": "code",
   "execution_count": 29,
   "id": "887fd7e8",
   "metadata": {},
   "outputs": [
    {
     "data": {
      "text/plain": [
       "(tensor([0.1200, 0.1290, 0.1128,  ..., 0.1241, 0.1112, 0.1233]),\n",
       " torch.Size([1010]))"
      ]
     },
     "execution_count": 29,
     "metadata": {},
     "output_type": "execute_result"
    }
   ],
   "source": [
    "valid_3_dist = mnist_distance(valid_3_tens, mean3)\n",
    "valid_3_dist, valid_3_dist.shape"
   ]
  },
  {
   "cell_type": "code",
   "execution_count": 30,
   "id": "263260a1",
   "metadata": {},
   "outputs": [
    {
     "data": {
      "text/plain": [
       "torch.Size([1010, 28, 28])"
      ]
     },
     "execution_count": 30,
     "metadata": {},
     "output_type": "execute_result"
    }
   ],
   "source": [
    "valid_3_tens.shape"
   ]
  },
  {
   "cell_type": "code",
   "execution_count": 31,
   "id": "30870bc2",
   "metadata": {},
   "outputs": [
    {
     "data": {
      "text/plain": [
       "torch.Size([28, 28])"
      ]
     },
     "execution_count": 31,
     "metadata": {},
     "output_type": "execute_result"
    }
   ],
   "source": [
    "mean3.shape"
   ]
  },
  {
   "cell_type": "markdown",
   "id": "fffe2e14",
   "metadata": {},
   "source": [
    "`Broadcasting` in pytorch acts as if there are 1010 versions of `mean3` w/o a for loop involved. Thus, what is happening in `mnist_distance` is each `mean3` image is being subtracted from an image in the validation set (that's 1010 images/tensors). Then the `abs()` value is taken for each of the images. Then the mean/average is calculated on that image. That's why the final shape of `valid_3_dist` is 1010."
   ]
  },
  {
   "cell_type": "code",
   "execution_count": 32,
   "id": "9de0f15f",
   "metadata": {},
   "outputs": [],
   "source": [
    "def is_3(x): return mnist_distance(x, mean3) < mnist_distance(x,mean7)"
   ]
  },
  {
   "cell_type": "code",
   "execution_count": 33,
   "id": "525f1bfb",
   "metadata": {},
   "outputs": [
    {
     "data": {
      "text/plain": [
       "(tensor(True), tensor(1.))"
      ]
     },
     "execution_count": 33,
     "metadata": {},
     "output_type": "execute_result"
    }
   ],
   "source": [
    "is_3(a_3), is_3(a_3).float()"
   ]
  },
  {
   "cell_type": "code",
   "execution_count": 34,
   "id": "e603b128",
   "metadata": {},
   "outputs": [
    {
     "data": {
      "text/plain": [
       "tensor([True, True, True,  ..., True, True, True])"
      ]
     },
     "execution_count": 34,
     "metadata": {},
     "output_type": "execute_result"
    }
   ],
   "source": [
    "is_3(valid_3_tens)"
   ]
  },
  {
   "cell_type": "code",
   "execution_count": 35,
   "id": "4881e9fa",
   "metadata": {},
   "outputs": [
    {
     "data": {
      "text/plain": [
       "(tensor(0.9168), tensor(0.9854), tensor(0.9511))"
      ]
     },
     "execution_count": 35,
     "metadata": {},
     "output_type": "execute_result"
    }
   ],
   "source": [
    "accuracy_3s = is_3(valid_3_tens).float().mean()\n",
    "accuracy_7s = (1 - is_3(valid_7_tens).float()).mean()\n",
    "\n",
    "accuracy_3s, accuracy_7s, (accuracy_3s + accuracy_7s)/2"
   ]
  },
  {
   "cell_type": "markdown",
   "id": "fd16c6a0",
   "metadata": {},
   "source": [
    "## Stochastic Gradient Descent"
   ]
  },
  {
   "cell_type": "markdown",
   "id": "d99450c5",
   "metadata": {},
   "source": [
    "Steps for our use case:\n",
    "\n",
    "1. Initialize the weights\n",
    "2. For each image, use these weights to predict whether it appears to be a three or seven\n",
    "3. Based on these predictions, calculate how good the model is (its loss)\n",
    "4. Calculate the gradient, which measures for each weight, how changing that weight would change the loss\n",
    "5. Step (that is, change) all weights based on that calculation\n",
    "6. Go back to the second step, and repeat the process\n",
    "7. ...until you decide to stop the training process (for instance because the model is good enough, or you don't want to wait any longer)"
   ]
  },
  {
   "cell_type": "code",
   "execution_count": 36,
   "id": "fcd41297",
   "metadata": {},
   "outputs": [],
   "source": [
    "def f(x): return x**2"
   ]
  },
  {
   "cell_type": "code",
   "execution_count": 37,
   "id": "c1294c82",
   "metadata": {},
   "outputs": [
    {
     "name": "stderr",
     "output_type": "stream",
     "text": [
      "/home/ubuntu/anaconda3/envs/fastai/lib/python3.7/site-packages/fastbook/__init__.py:73: UserWarning: Not providing a value for linspace's steps is deprecated and will throw a runtime error in a future release. This warning will appear only once per process. (Triggered internally at  /pytorch/aten/src/ATen/native/RangeFactories.cpp:23.)\n",
      "  x = torch.linspace(min,max)\n"
     ]
    },
    {
     "data": {
      "text/plain": [
       "<matplotlib.collections.PathCollection at 0x7f19be476c90>"
      ]
     },
     "execution_count": 37,
     "metadata": {},
     "output_type": "execute_result"
    },
    {
     "data": {
      "image/png": "[encoded data removed]",
      "text/plain": [
       "<Figure size 432x288 with 1 Axes>"
      ]
     },
     "metadata": {
      "needs_background": "light"
     },
     "output_type": "display_data"
    }
   ],
   "source": [
    "plot_function(f, 'x', 'x**2')\n",
    "plt.scatter(-1.5, f(-1.5), color=\"red\")"
   ]
  },
  {
   "cell_type": "markdown",
   "id": "1165b4e9",
   "metadata": {},
   "source": [
    "### The gradient"
   ]
  },
  {
   "cell_type": "code",
   "execution_count": 42,
   "id": "a0c80072",
   "metadata": {},
   "outputs": [],
   "source": [
    "xt = tensor(3.).requires_grad_() # telling pytorch to remember this value because you'll want to take the derivative/gradient of it later"
   ]
  },
  {
   "cell_type": "code",
   "execution_count": 44,
   "id": "e0e626f7",
   "metadata": {},
   "outputs": [
    {
     "data": {
      "text/plain": [
       "tensor(9., grad_fn=<PowBackward0>)"
      ]
     },
     "execution_count": 44,
     "metadata": {},
     "output_type": "execute_result"
    }
   ],
   "source": [
    "yt = f(xt)\n",
    "yt"
   ]
  },
  {
   "cell_type": "code",
   "execution_count": 45,
   "id": "33eed763",
   "metadata": {},
   "outputs": [],
   "source": [
    "yt.backward()"
   ]
  },
  {
   "cell_type": "markdown",
   "id": "fb9e4b20",
   "metadata": {},
   "source": [
    "`backward` means back propagation which also means get the derivatives/gradients of the values. You call `backward` not on the argument that you passed (`xt`) but on caller of the function (`yt`). Then you find the gradient/derivative of the `xt` by calling `xt.grad`. The gradient is the slope at some point of the gradient descent function (in this case x^2)"
   ]
  },
  {
   "cell_type": "code",
   "execution_count": 47,
   "id": "4102a7e2",
   "metadata": {},
   "outputs": [
    {
     "data": {
      "text/plain": [
       "tensor(6.)"
      ]
     },
     "execution_count": 47,
     "metadata": {},
     "output_type": "execute_result"
    }
   ],
   "source": [
    "xt.grad # the derivative of x^2 is 2x. 2*3 = 6"
   ]
  },
  {
   "cell_type": "code",
   "execution_count": 49,
   "id": "3b8528bb",
   "metadata": {},
   "outputs": [
    {
     "data": {
      "text/plain": [
       "tensor([ 3.,  4., 10.], requires_grad=True)"
      ]
     },
     "execution_count": 49,
     "metadata": {},
     "output_type": "execute_result"
    }
   ],
   "source": [
    "xt = tensor([3., 4., 10.]).requires_grad_()\n",
    "xt"
   ]
  },
  {
   "cell_type": "code",
   "execution_count": 50,
   "id": "2f97c951",
   "metadata": {},
   "outputs": [
    {
     "data": {
      "text/plain": [
       "tensor(125., grad_fn=<SumBackward0>)"
      ]
     },
     "execution_count": 50,
     "metadata": {},
     "output_type": "execute_result"
    }
   ],
   "source": [
    "def f(x): return (x**2).sum()\n",
    "\n",
    "yt = f(xt)\n",
    "yt"
   ]
  },
  {
   "cell_type": "code",
   "execution_count": 51,
   "id": "56c5101d",
   "metadata": {},
   "outputs": [
    {
     "data": {
      "text/plain": [
       "tensor([ 6.,  8., 20.])"
      ]
     },
     "execution_count": 51,
     "metadata": {},
     "output_type": "execute_result"
    }
   ],
   "source": [
    "yt.backward()\n",
    "xt.grad"
   ]
  },
  {
   "cell_type": "markdown",
   "id": "95c94b02",
   "metadata": {},
   "source": [
    "The slope tells you if you change the input a little bit, this is by x much you will change the output"
   ]
  },
  {
   "cell_type": "markdown",
   "id": "32ea281c",
   "metadata": {},
   "source": [
    "### Stepping with a learning rate"
   ]
  },
  {
   "cell_type": "markdown",
   "id": "34ea76a7",
   "metadata": {},
   "source": [
    "This is the essence of gradient descent: `w -= gradient(w) * lr`. `lr` or learning rate helps in how much/fast to change the slope with the values using being between 0.001 and 0.1. If the learning rate is too small, it will take longer to reach the bottom (think about the parabola above). If the learning rate is too high, it'll miss the bottom completely and overshoot!"
   ]
  },
  {
   "cell_type": "markdown",
   "id": "483c463e",
   "metadata": {},
   "source": [
    "## An end-to-end SGD example"
   ]
  },
  {
   "cell_type": "code",
   "execution_count": 76,
   "id": "49af4774",
   "metadata": {},
   "outputs": [
    {
     "data": {
      "text/plain": [
       "tensor([ 0.,  1.,  2.,  3.,  4.,  5.,  6.,  7.,  8.,  9., 10., 11., 12., 13., 14., 15., 16., 17., 18., 19.])"
      ]
     },
     "execution_count": 76,
     "metadata": {},
     "output_type": "execute_result"
    }
   ],
   "source": [
    "time = torch.arange(0, 20).float(); time"
   ]
  },
  {
   "cell_type": "code",
   "execution_count": 77,
   "id": "a6fd9b18",
   "metadata": {},
   "outputs": [
    {
     "data": {
      "text/plain": [
       "<matplotlib.collections.PathCollection at 0x7f19b6149b90>"
      ]
     },
     "execution_count": 77,
     "metadata": {},
     "output_type": "execute_result"
    },
    {
     "data": {
      "image/png": "[encoded data removed]",
      "text/plain": [
       "<Figure size 432x288 with 1 Axes>"
      ]
     },
     "metadata": {
      "needs_background": "light"
     },
     "output_type": "display_data"
    }
   ],
   "source": [
    "speed = torch.randn(20)*3 + 0.75*(time-9.5)**2 + 1\n",
    "plt.scatter(time,speed)"
   ]
  },
  {
   "cell_type": "code",
   "execution_count": 78,
   "id": "7035321c",
   "metadata": {},
   "outputs": [],
   "source": [
    "def f(t, params):\n",
    "    a,b,c = params\n",
    "    return a*(t**2) + (b + t) + c"
   ]
  },
  {
   "cell_type": "code",
   "execution_count": 79,
   "id": "9b4a72e3",
   "metadata": {},
   "outputs": [],
   "source": [
    "def mse(preds, targets): return ((preds-targets)**2).mean()"
   ]
  },
  {
   "cell_type": "markdown",
   "id": "249fab13",
   "metadata": {},
   "source": [
    "### 1) Initialize the weights/parameters to random values"
   ]
  },
  {
   "cell_type": "code",
   "execution_count": 80,
   "id": "33189c53",
   "metadata": {},
   "outputs": [],
   "source": [
    "params = torch.randn(3).requires_grad_()"
   ]
  },
  {
   "cell_type": "code",
   "execution_count": 81,
   "id": "fbeb750d",
   "metadata": {},
   "outputs": [],
   "source": [
    "orig_params = params.clone()"
   ]
  },
  {
   "cell_type": "markdown",
   "id": "a575c747",
   "metadata": {},
   "source": [
    "### 2) Calculate the predictions"
   ]
  },
  {
   "cell_type": "code",
   "execution_count": 82,
   "id": "63067b34",
   "metadata": {},
   "outputs": [],
   "source": [
    "preds = f(time, params)"
   ]
  },
  {
   "cell_type": "code",
   "execution_count": 83,
   "id": "481b089c",
   "metadata": {},
   "outputs": [
    {
     "data": {
      "image/png": "[encoded data removed]",
      "text/plain": [
       "<Figure size 432x288 with 1 Axes>"
      ]
     },
     "metadata": {
      "needs_background": "light"
     },
     "output_type": "display_data"
    }
   ],
   "source": [
    "def show_preds(preds, ax=None):\n",
    "    if ax is None: ax=plt.subplots()[1]\n",
    "    ax.scatter(time, speed)\n",
    "    ax.scatter(time, to_np(preds), color='red')\n",
    "    ax.set_ylim(-300,100)\n",
    "        \n",
    "show_preds(preds)"
   ]
  },
  {
   "cell_type": "markdown",
   "id": "a5c0069d",
   "metadata": {},
   "source": [
    "### 3) Calculate the loss"
   ]
  },
  {
   "cell_type": "code",
   "execution_count": 84,
   "id": "2c75d968",
   "metadata": {},
   "outputs": [
    {
     "data": {
      "text/plain": [
       "tensor(65312.4922, grad_fn=<MeanBackward0>)"
      ]
     },
     "execution_count": 84,
     "metadata": {},
     "output_type": "execute_result"
    }
   ],
   "source": [
    "loss = mse(preds, speed)\n",
    "loss"
   ]
  },
  {
   "cell_type": "markdown",
   "id": "25d1a5a6",
   "metadata": {},
   "source": [
    "### 4) Calculate the gradients"
   ]
  },
  {
   "cell_type": "code",
   "execution_count": 85,
   "id": "a36c3369",
   "metadata": {},
   "outputs": [
    {
     "data": {
      "text/plain": [
       "tensor([85260.9844,   359.8089,   359.8089])"
      ]
     },
     "execution_count": 85,
     "metadata": {},
     "output_type": "execute_result"
    }
   ],
   "source": [
    "loss.backward()\n",
    "params.grad"
   ]
  },
  {
   "cell_type": "code",
   "execution_count": 86,
   "id": "da4d76a7",
   "metadata": {},
   "outputs": [
    {
     "data": {
      "text/plain": [
       "tensor([0.8526, 0.0036, 0.0036])"
      ]
     },
     "execution_count": 86,
     "metadata": {},
     "output_type": "execute_result"
    }
   ],
   "source": [
    "params.grad * 1e-5"
   ]
  },
  {
   "cell_type": "markdown",
   "id": "f6950703",
   "metadata": {},
   "source": [
    "### 5) Step the weights"
   ]
  },
  {
   "cell_type": "markdown",
   "id": "57b2618e",
   "metadata": {},
   "source": [
    "When you see `.grad.data` like below, the gradients are not calculated! The gradient values are already present in the `.data` structure. After you get your updated weights, you reset the gradient to none"
   ]
  },
  {
   "cell_type": "code",
   "execution_count": 87,
   "id": "6038ef45",
   "metadata": {},
   "outputs": [],
   "source": [
    "lr = 1e-5\n",
    "params.data -= lr * params.grad.data\n",
    "params.grad = None"
   ]
  },
  {
   "cell_type": "markdown",
   "id": "6ea9dae9",
   "metadata": {},
   "source": [
    "Let's see if the loss has improved"
   ]
  },
  {
   "cell_type": "code",
   "execution_count": 88,
   "id": "9baa7bea",
   "metadata": {},
   "outputs": [
    {
     "data": {
      "image/png": "[encoded data removed]",
      "text/plain": [
       "<Figure size 432x288 with 1 Axes>"
      ]
     },
     "metadata": {
      "needs_background": "light"
     },
     "output_type": "display_data"
    }
   ],
   "source": [
    "preds = f(time, params)\n",
    "mse(preds, speed)\n",
    "\n",
    "show_preds(preds)"
   ]
  },
  {
   "cell_type": "code",
   "execution_count": 89,
   "id": "ea8f3f3a",
   "metadata": {},
   "outputs": [],
   "source": [
    "def apply_step(params, prn=True):\n",
    "    preds = f(time, params)\n",
    "    loss = mse(preds, speed)\n",
    "    loss.backward()\n",
    "    params.data -= lr * params.grad.data\n",
    "    params.grad = None\n",
    "    if prn: print(loss.item())\n",
    "    return preds"
   ]
  },
  {
   "cell_type": "markdown",
   "id": "f67fb6b7",
   "metadata": {},
   "source": [
    "### 6) Repeat the process"
   ]
  },
  {
   "cell_type": "code",
   "execution_count": 90,
   "id": "af5f2617",
   "metadata": {},
   "outputs": [
    {
     "name": "stdout",
     "output_type": "stream",
     "text": [
      "13068.3857421875\n",
      "3077.10986328125\n",
      "1166.354736328125\n",
      "800.9344482421875\n",
      "731.0473022460938\n",
      "717.6785888671875\n",
      "715.1185302734375\n",
      "714.6255493164062\n",
      "714.5278930664062\n",
      "714.5057983398438\n"
     ]
    }
   ],
   "source": [
    "for i in range(10): apply_step(params)"
   ]
  },
  {
   "cell_type": "code",
   "execution_count": 91,
   "id": "1fda9ff1",
   "metadata": {},
   "outputs": [
    {
     "data": {
      "image/png": "[encoded data removed]",
      "text/plain": [
       "<Figure size 864x216 with 4 Axes>"
      ]
     },
     "metadata": {
      "needs_background": "light"
     },
     "output_type": "display_data"
    }
   ],
   "source": [
    "_, axs = plt.subplots(1,4,figsize=(12,3))\n",
    "for ax in axs: show_preds(apply_step(params, False), ax)\n",
    "plt.tight_layout()"
   ]
  },
  {
   "cell_type": "markdown",
   "id": "fc17e084",
   "metadata": {},
   "source": [
    "### Step 7: Stop"
   ]
  }
 ],
 "metadata": {
  "kernelspec": {
   "display_name": "fastai",
   "language": "python",
   "name": "fastai"
  },
  "language_info": {
   "codemirror_mode": {
    "name": "ipython",
    "version": 3
   },
   "file_extension": ".py",
   "mimetype": "text/x-python",
   "name": "python",
   "nbconvert_exporter": "python",
   "pygments_lexer": "ipython3",
   "version": "3.7.10"
  }
 },
 "nbformat": 4,
 "nbformat_minor": 5
}
