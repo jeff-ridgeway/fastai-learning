{
 "cells": [
  {
   "cell_type": "markdown",
   "id": "d26a6dd3",
   "metadata": {},
   "source": [
    "# Chapter 1 Questionnaire"
   ]
  },
  {
   "cell_type": "markdown",
   "id": "cd2507fd",
   "metadata": {},
   "source": [
    "**1. Do you need these for deep learning?**\n",
    "\n",
    "- **Lots of math T/F**\n",
    "- **Lots of data T/F**\n",
    "- **Lots of expensive computers T/F**\n",
    "- **A PhD T/F**"
   ]
  },
  {
   "cell_type": "markdown",
   "id": "a4e8bf4a",
   "metadata": {},
   "source": [
    "A: F, F, F, F"
   ]
  },
  {
   "cell_type": "markdown",
   "id": "93566ddd",
   "metadata": {},
   "source": [
    "**2. Name five areas where deep learning is now the best tool in the world.**"
   ]
  },
  {
   "cell_type": "markdown",
   "id": "a04ad8aa",
   "metadata": {},
   "source": [
    "A:\n",
    "\n",
    "- Natural Lanugage Processing (NLP)\n",
    "- Computer Vision\n",
    "- Medicine\n",
    "- Biology\n",
    "- Image generation"
   ]
  },
  {
   "cell_type": "markdown",
   "id": "1a02d198",
   "metadata": {},
   "source": [
    "**3. What was the name of the first device that was based on the principle of the artificial neuron?**"
   ]
  },
  {
   "cell_type": "markdown",
   "id": "15a6b8fe",
   "metadata": {},
   "source": [
    "A: Mark I Perceptron"
   ]
  },
  {
   "cell_type": "markdown",
   "id": "84472f7c",
   "metadata": {},
   "source": [
    "**4. Based on the book of the same name, what are the requirements for parallel distributed processing (PDP)?**"
   ]
  },
  {
   "cell_type": "markdown",
   "id": "596a29a9",
   "metadata": {},
   "source": [
    "A: \n",
    "\n",
    "- A set of _processing units_\n",
    "- A state of _activation_\n",
    "- An _output function_ for each unit\n",
    "- A _pattern of connectivity_ among units\n",
    "- A _propagation rule_ for propagating patterns of activities through the network of connectivities\n",
    "- An _activation rule_ for combining the inputs impinging on a unit with the current state of that unit to produce an output for the unit\n",
    "- A _learning rule_ whereby patterns of connectivity are modified by experience\n",
    "- An _environment_ within which the system must operate"
   ]
  },
  {
   "cell_type": "markdown",
   "id": "f91da13a",
   "metadata": {},
   "source": [
    "**5. What were the two theoretical misunderstandings that held back the field of neural networks?**"
   ]
  },
  {
   "cell_type": "markdown",
   "id": "b8a8d970",
   "metadata": {},
   "source": [
    "A: The book _Perceptrons_ showed that a single layer of these devices was unable to learn some simple but critical mathematical functions (such as XOR). Also, the fact that the neural networks were often too big and too slow to be useful"
   ]
  },
  {
   "cell_type": "markdown",
   "id": "745a3c4b",
   "metadata": {},
   "source": [
    "**6. What is a GPU?**"
   ]
  },
  {
   "cell_type": "markdown",
   "id": "41eb3935",
   "metadata": {},
   "source": [
    "A: A Graphics Processing Unit (GPU) (aka a graphics card) is a special kind of processor in a computer that can handle thousands of single tasks at the same time, especially designed for displaying 3D environments on a computer for playing games. These same basica tasks are very similar to what neural networks do, such that GPUs can run neural networks hundreds of times faster than regular CPUs."
   ]
  },
  {
   "cell_type": "markdown",
   "id": "2358b5cd",
   "metadata": {},
   "source": [
    "**7. Open a notebook and execute a cell containing: `1+1`. What happens?**"
   ]
  },
  {
   "cell_type": "code",
   "execution_count": 3,
   "id": "4c8ba59b",
   "metadata": {},
   "outputs": [
    {
     "data": {
      "text/plain": [
       "2"
      ]
     },
     "execution_count": 3,
     "metadata": {},
     "output_type": "execute_result"
    }
   ],
   "source": [
    "1+1"
   ]
  },
  {
   "cell_type": "markdown",
   "id": "5f21a46c",
   "metadata": {},
   "source": [
    "**10. Why is it hard to use a traditional computer program to recognize images in a photo?**"
   ]
  },
  {
   "cell_type": "markdown",
   "id": "61193862",
   "metadata": {},
   "source": [
    "A: Since a computer program needs exact steps necessary to complete the tasks to recognize images in a photo, it's difficult because we (humans) don't know how it all happens in our brain without us being consciously aware of it. Thus, it's hard to transcribe what we are ignorant of to steps that a computer needs to understand to execute."
   ]
  },
  {
   "cell_type": "markdown",
   "id": "e8df6374",
   "metadata": {},
   "source": [
    "**11. What did Samuel mean by \"weight assignment\"?**"
   ]
  },
  {
   "cell_type": "markdown",
   "id": "e039a704",
   "metadata": {},
   "source": [
    "A: Samuel meant a particular choice of values for weights when he talked about \"weight assignment\". A program's weight assignment are other values that define how the program will operate."
   ]
  },
  {
   "cell_type": "markdown",
   "id": "7d9d4e2f",
   "metadata": {},
   "source": [
    "**12. What term do we normally use in deep learning for what Samuel called \"weights\"?**"
   ]
  },
  {
   "cell_type": "markdown",
   "id": "d3b84bf9",
   "metadata": {},
   "source": [
    "A: Weights = (current day) model parameters"
   ]
  },
  {
   "cell_type": "markdown",
   "id": "41d892a0",
   "metadata": {},
   "source": [
    "**14. Why is it hard to understand why a deep learning model makes a particular prediction?**"
   ]
  },
  {
   "cell_type": "markdown",
   "id": "89d5d42a",
   "metadata": {},
   "source": [
    "A: It's hard to understand why a deep learning model makes a particular prediction because the weights are unknown"
   ]
  },
  {
   "cell_type": "markdown",
   "id": "a794dcf1",
   "metadata": {},
   "source": [
    "**15. What is the name of the theorem that shows that a neural network can solve any mathematical problem to any level of accuracy?**"
   ]
  },
  {
   "cell_type": "markdown",
   "id": "cea9c5f1",
   "metadata": {},
   "source": [
    "A: universal approximation theorem"
   ]
  },
  {
   "cell_type": "markdown",
   "id": "c5c83465",
   "metadata": {},
   "source": [
    "**16. What do you need in order to train a model?**"
   ]
  },
  {
   "cell_type": "markdown",
   "id": "a687de0f",
   "metadata": {},
   "source": [
    "A: Data!!!!!"
   ]
  },
  {
   "cell_type": "markdown",
   "id": "c5d2f11f",
   "metadata": {},
   "source": [
    "**17. How could a feedback loop impact the rollout of a predictive policing model?**"
   ]
  },
  {
   "cell_type": "markdown",
   "id": "a1669c65",
   "metadata": {},
   "source": [
    "A: A feedback loop could impact the rollout of a predictive policing model by looking at what arrests have been made in the past and sending officiers to that location to focus their policing activity which results in increasing arrests. The increasing arrests and the subsequent locations are then fed to the dataset that is used to train the model. Thus a feedback loop."
   ]
  },
  {
   "cell_type": "markdown",
   "id": "9c265150",
   "metadata": {},
   "source": [
    "**18. Do we always have to use 224x224-pixel images with the cat recognition model?**"
   ]
  },
  {
   "cell_type": "markdown",
   "id": "a703eea9",
   "metadata": {},
   "source": [
    "A: No we don't always have to use a 224x224 pixel image."
   ]
  },
  {
   "cell_type": "markdown",
   "id": "8d288800",
   "metadata": {},
   "source": [
    "**19. What is the difference between classification and regression?**"
   ]
  },
  {
   "cell_type": "markdown",
   "id": "23af3fe2",
   "metadata": {},
   "source": [
    "A: Classification predicts a class or category from a number of discrete possibilities, such as \"dog\" or \"cat\", while regression is an attempt to predict one or more numeric quantities, such as temperature or a location"
   ]
  },
  {
   "cell_type": "markdown",
   "id": "1ea1d16a",
   "metadata": {},
   "source": [
    "**20. What is a validation set? What is a test set? Why do we need them?**"
   ]
  },
  {
   "cell_type": "markdown",
   "id": "a69bb0c4",
   "metadata": {},
   "source": [
    "A: A validation set is a portion of the dataset that is used to update the loss during the training model which would then update the weights/parameters during backpropagation, usually 20%. The test set, is a set of data is set aside or reserved that is not meant to be tampered with in terms of hyperparameters. We need these to help update the model via the loss and to make sure the model is learning generally."
   ]
  },
  {
   "cell_type": "markdown",
   "id": "2b53fb55",
   "metadata": {},
   "source": [
    "**21. What will fasai do if you don't provide a validation set?**"
   ]
  },
  {
   "cell_type": "markdown",
   "id": "6ad3347b",
   "metadata": {},
   "source": [
    "A: Sets aside automatically 20% of the data for the validation set!"
   ]
  },
  {
   "cell_type": "markdown",
   "id": "c962f448",
   "metadata": {},
   "source": [
    "**22. Can we always use a random sample for a validation set? Why or why not?**"
   ]
  },
  {
   "cell_type": "markdown",
   "id": "7e185355",
   "metadata": {},
   "source": [
    "A: It depends. A key property of the validation set is that they must be representative of the new data you will see in the future. So for a task like time series analysis this could become problematic as the goal is to predict the future value of something based of of the past seasonality"
   ]
  },
  {
   "cell_type": "markdown",
   "id": "5827d68a",
   "metadata": {},
   "source": [
    "**23. What is overfitting? Provide an example.**"
   ]
  },
  {
   "cell_type": "markdown",
   "id": "e2be9d9f",
   "metadata": {},
   "source": [
    "A: Overfitting is when the model starts to memorize the training set rather than finding generalizable underlying patterns in the data. An example is if you create a handwritten digit classifier and use it to recognize nubmers written on checks, they you are never going to see any of the numbers that the model was trained on"
   ]
  },
  {
   "cell_type": "markdown",
   "id": "ffb4733d",
   "metadata": {},
   "source": [
    "**24. What is a metric? How does it differ from loss?**"
   ]
  },
  {
   "cell_type": "markdown",
   "id": "2764e468",
   "metadata": {},
   "source": [
    "A: A metric is measurement of how good the model is using the validation set, chosen for human consumption. It differs from loss because loss is a measure of how good the model is, chosen to drive training via SGD"
   ]
  },
  {
   "cell_type": "markdown",
   "id": "9d2058ec",
   "metadata": {},
   "source": [
    "**25. How can pretrained models help?**"
   ]
  },
  {
   "cell_type": "markdown",
   "id": "1ee1c8f8",
   "metadata": {},
   "source": [
    "A: Pretrained models help by utilizing already known \"features' of the data at a deeper sense so that you don't have to train a DL model from scratch but save money and time (and the environment) when it comes to training."
   ]
  },
  {
   "cell_type": "markdown",
   "id": "8a518b89",
   "metadata": {},
   "source": [
    "**26. What is the \"head\" of a model?**"
   ]
  },
  {
   "cell_type": "markdown",
   "id": "2aaa2b98",
   "metadata": {},
   "source": [
    "A: The head of a model is the part that is newly added to be specific to the new dataset."
   ]
  },
  {
   "cell_type": "markdown",
   "id": "b1388885",
   "metadata": {},
   "source": [
    "**27. What kinds of features do the early layers of a CNN find? How about the later layers?**"
   ]
  },
  {
   "cell_type": "markdown",
   "id": "9ee99517",
   "metadata": {},
   "source": [
    "A: The find features like diagonals, horizontals, and vertical edges as well as various gradients. The later layers have higher-level semantic components such as car wheels, text, and flower petals"
   ]
  },
  {
   "cell_type": "markdown",
   "id": "db55de2a",
   "metadata": {},
   "source": [
    "**28. Are image models useful only for photos?**"
   ]
  },
  {
   "cell_type": "markdown",
   "id": "d3eeb919",
   "metadata": {},
   "source": [
    "A: No they are not! Things like sound can be converted to images or malware or anything else that is easily differential via just looking at an image. That can fed to a CNN"
   ]
  },
  {
   "cell_type": "markdown",
   "id": "67aaf883",
   "metadata": {},
   "source": [
    "**29. What is an architecture?**"
   ]
  },
  {
   "cell_type": "markdown",
   "id": "a11e48b7",
   "metadata": {},
   "source": [
    "A: The template of the model that we're trying to fit; i.e., the actual mathematical function that we're passing the input data and parameters to"
   ]
  },
  {
   "cell_type": "markdown",
   "id": "285ff76e",
   "metadata": {},
   "source": [
    "**30. What is segmentation?**"
   ]
  },
  {
   "cell_type": "markdown",
   "id": "4a5ae9ae",
   "metadata": {},
   "source": [
    "A: Segmentation is when you create a model that can recognize the content of every individual pixel in an image"
   ]
  },
  {
   "cell_type": "markdown",
   "id": "be9e555a",
   "metadata": {},
   "source": [
    "**31. What is `y_range` used for? When do we need it?**"
   ]
  },
  {
   "cell_type": "markdown",
   "id": "174ae1e6",
   "metadata": {},
   "source": [
    "A: `y_range` is when you trying to predict a continuous number, rather than a category, and you want to tell fastai what range your target has"
   ]
  },
  {
   "cell_type": "markdown",
   "id": "9b25b014",
   "metadata": {},
   "source": [
    "**32. What are hyperparameters?**"
   ]
  },
  {
   "cell_type": "markdown",
   "id": "c948f7d0",
   "metadata": {},
   "source": [
    "A: Parameters about parameters that are higher-level choices that govern the meaning of the weight parameters"
   ]
  },
  {
   "cell_type": "markdown",
   "id": "195cd16a",
   "metadata": {},
   "source": [
    "**33. What's the best way to avoid failures when using AI in an organization?**"
   ]
  },
  {
   "cell_type": "markdown",
   "id": "f84f94c2",
   "metadata": {},
   "source": [
    "A: Hold back test data when using AI models"
   ]
  },
  {
   "cell_type": "markdown",
   "id": "ddf98b2b",
   "metadata": {},
   "source": [
    "### Bonus Questions"
   ]
  },
  {
   "cell_type": "markdown",
   "id": "96f226f7",
   "metadata": {},
   "source": [
    "**Why is a GPU useful for deep learning? How is a CPU different, and why is it less effective for deep learning?**"
   ]
  },
  {
   "cell_type": "markdown",
   "id": "1822ec39",
   "metadata": {},
   "source": [
    "A: GPU is useful for deep learning because you do fast computation using matrices because of the the hardware rather than CPU's. CPU's are rather slow in this regard and thus can slow down deep learning"
   ]
  },
  {
   "cell_type": "markdown",
   "id": "274158f8",
   "metadata": {},
   "source": [
    "**Try tot hink of three areas where feedback loops might impact the use of machine learning. See if you can find documented examples of that happening in practice**"
   ]
  },
  {
   "cell_type": "markdown",
   "id": "6c16e29d",
   "metadata": {},
   "source": [
    "* black people can't get apple card because of the algorithm\n",
    "* recidivsm in the prision system\n",
    "* black people who get loans"
   ]
  }
 ],
 "metadata": {
  "kernelspec": {
   "display_name": "fastai",
   "language": "python",
   "name": "fastai"
  },
  "language_info": {
   "codemirror_mode": {
    "name": "ipython",
    "version": 3
   },
   "file_extension": ".py",
   "mimetype": "text/x-python",
   "name": "python",
   "nbconvert_exporter": "python",
   "pygments_lexer": "ipython3",
   "version": "3.7.10"
  }
 },
 "nbformat": 4,
 "nbformat_minor": 5
}
